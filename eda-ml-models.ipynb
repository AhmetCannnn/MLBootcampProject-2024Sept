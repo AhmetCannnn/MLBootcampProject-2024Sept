{
 "cells": [
  {
   "cell_type": "markdown",
   "id": "9c5f8330",
   "metadata": {
    "papermill": {
     "duration": 0.011379,
     "end_time": "2024-09-19T17:41:18.605528",
     "exception": false,
     "start_time": "2024-09-19T17:41:18.594149",
     "status": "completed"
    },
    "tags": []
   },
   "source": [
    "# **GEREKLİ KÜTÜPHANELERİN İMPORT İŞLEMLERİ**"
   ]
  },
  {
   "cell_type": "code",
   "execution_count": 1,
   "id": "fff7d63d",
   "metadata": {
    "execution": {
     "iopub.execute_input": "2024-09-19T17:41:18.628148Z",
     "iopub.status.busy": "2024-09-19T17:41:18.627721Z",
     "iopub.status.idle": "2024-09-19T17:41:21.000488Z",
     "shell.execute_reply": "2024-09-19T17:41:20.999548Z"
    },
    "id": "9GrK7aHd1pfx",
    "papermill": {
     "duration": 2.38697,
     "end_time": "2024-09-19T17:41:21.003026",
     "exception": false,
     "start_time": "2024-09-19T17:41:18.616056",
     "status": "completed"
    },
    "tags": []
   },
   "outputs": [],
   "source": [
    "# KEŞİFSEL VERİ ANALİZİ (EDA) KÜTÜPHANELERİ\n",
    "import numpy as np # linear algebra\n",
    "import pandas as pd # data processing, CSV file I/O (e.g. pd.read_csv)\n",
    "import matplotlib.pyplot as plt # Import Matplotlib for creating visualizations\n",
    "import seaborn as sns # Import Seaborn for advanced data visualization\n",
    "\n",
    "# VERİ ÖN İŞLEME KÜTÜOHANELERİ\n",
    "from sklearn.preprocessing import LabelEncoder  # Import LabelEncoder from sklearn for encoding categorical features\n",
    "from sklearn.preprocessing import OneHotEncoder  # Import OneHotEncoder from sklearn for encoding categorical features\n",
    "from sklearn.preprocessing import StandardScaler  # Import StandardScaler for feature scaling\n",
    "from sklearn.model_selection import train_test_split  # Import train_test_split for splitting data into training and test sets\n",
    "\n",
    "# MODEL OLUŞTURMA KÜTÜPHANELERİ\n",
    "from sklearn.cluster import KMeans  # Import KMeans for K-Means clustering\n",
    "from sklearn.linear_model import LogisticRegression  # Import LogisticRegression for classification\n",
    "\n",
    "# MODEL DEĞERLENDİRME KÜTÜPHANELERİ\n",
    "from sklearn.metrics import classification_report, accuracy_score  # Import metrics for model evaluation\n",
    "from sklearn.model_selection import cross_val_score # Import cross-validation score function\n",
    "from sklearn.pipeline import make_pipeline # Import pipeline creation utility\n",
    "\n",
    "# UYARILARI KAPATMA KÜTÜPHANESİ\n",
    "import warnings # Import warnings module to handle warning messages\n",
    "warnings.filterwarnings(\"ignore\") # Ignore any warning messages to keep the output clean"
   ]
  },
  {
   "cell_type": "code",
   "execution_count": 2,
   "id": "82ecb238",
   "metadata": {
    "execution": {
     "iopub.execute_input": "2024-09-19T17:41:21.026809Z",
     "iopub.status.busy": "2024-09-19T17:41:21.025741Z",
     "iopub.status.idle": "2024-09-19T17:41:24.359287Z",
     "shell.execute_reply": "2024-09-19T17:41:24.358331Z"
    },
    "id": "BidK6C2O1ski",
    "papermill": {
     "duration": 3.347927,
     "end_time": "2024-09-19T17:41:24.361887",
     "exception": false,
     "start_time": "2024-09-19T17:41:21.013960",
     "status": "completed"
    },
    "tags": []
   },
   "outputs": [],
   "source": [
    "df = pd.read_csv('/kaggle/input/crash-dataset-2016-2023/crash_data.csv') # Load the crash_data.csv file into a DataFrame"
   ]
  },
  {
   "cell_type": "markdown",
   "id": "5433b422",
   "metadata": {
    "id": "t5LXLuyj1i5Y",
    "papermill": {
     "duration": 0.010724,
     "end_time": "2024-09-19T17:41:24.383480",
     "exception": false,
     "start_time": "2024-09-19T17:41:24.372756",
     "status": "completed"
    },
    "tags": []
   },
   "source": [
    "# **📊🔍 EDA - Exploratory Data Analysis (Keşifsel Veri Analizi)**\n",
    "\n",
    "Bu kısım, veri kümesinin temel özelliklerini anlamak ve daha ileri analizler için gerekli bilgileri sağlamak amacıyla gerçekleştirilmiş olan Exploratory Data Analysis (EDA) sürecini içermektedir. EDA, veri setinin yapısını, özelliklerini ve ilişkilerini incelemek için kullanılan önemli bir adımdır. Bu süreç, veri temizliği, keşifsel analiz ve görselleştirme aşamalarını kapsar."
   ]
  },
  {
   "cell_type": "code",
   "execution_count": 3,
   "id": "c7e5f9db",
   "metadata": {
    "execution": {
     "iopub.execute_input": "2024-09-19T17:41:24.406595Z",
     "iopub.status.busy": "2024-09-19T17:41:24.405813Z",
     "iopub.status.idle": "2024-09-19T17:41:24.414938Z",
     "shell.execute_reply": "2024-09-19T17:41:24.413929Z"
    },
    "id": "N6oPCV-Z1i5b",
    "outputId": "743b691c-e236-4212-97e2-93473da3bab1",
    "papermill": {
     "duration": 0.023321,
     "end_time": "2024-09-19T17:41:24.417334",
     "exception": false,
     "start_time": "2024-09-19T17:41:24.394013",
     "status": "completed"
    },
    "tags": []
   },
   "outputs": [
    {
     "data": {
      "text/plain": [
       "Index(['Report Number', 'Local Case Number', 'Agency Name', 'ACRS Report Type',\n",
       "       'Crash Date/Time', 'Route Type', 'Road Name', 'Cross-Street Type',\n",
       "       'Cross-Street Name', 'Off-Road Description', 'Municipality',\n",
       "       'Related Non-Motorist', 'Collision Type', 'Weather',\n",
       "       'Surface Condition', 'Light', 'Traffic Control',\n",
       "       'Driver Substance Abuse', 'Non-Motorist Substance Abuse', 'Person ID',\n",
       "       'Driver At Fault', 'Injury Severity', 'Circumstance',\n",
       "       'Driver Distracted By', 'Drivers License State', 'Vehicle ID',\n",
       "       'Vehicle Damage Extent', 'Vehicle First Impact Location',\n",
       "       'Vehicle Second Impact Location', 'Vehicle Body Type',\n",
       "       'Vehicle Movement', 'Vehicle Continuing Dir', 'Vehicle Going Dir',\n",
       "       'Speed Limit', 'Driverless Vehicle', 'Parked Vehicle', 'Vehicle Year',\n",
       "       'Vehicle Make', 'Vehicle Model', 'Equipment Problems', 'Latitude',\n",
       "       'Longitude', 'Location'],\n",
       "      dtype='object')"
      ]
     },
     "execution_count": 3,
     "metadata": {},
     "output_type": "execute_result"
    }
   ],
   "source": [
    "df.columns # Display the column names of the DataFrame"
   ]
  },
  {
   "cell_type": "code",
   "execution_count": 4,
   "id": "a8447395",
   "metadata": {
    "execution": {
     "iopub.execute_input": "2024-09-19T17:41:24.441376Z",
     "iopub.status.busy": "2024-09-19T17:41:24.440363Z",
     "iopub.status.idle": "2024-09-19T17:41:24.481702Z",
     "shell.execute_reply": "2024-09-19T17:41:24.480573Z"
    },
    "id": "rFTOelAS1i5e",
    "outputId": "713c5a34-b0b2-48da-bed6-f4fa5ccca161",
    "papermill": {
     "duration": 0.055776,
     "end_time": "2024-09-19T17:41:24.484170",
     "exception": false,
     "start_time": "2024-09-19T17:41:24.428394",
     "status": "completed"
    },
    "tags": []
   },
   "outputs": [
    {
     "data": {
      "text/html": [
       "<div>\n",
       "<style scoped>\n",
       "    .dataframe tbody tr th:only-of-type {\n",
       "        vertical-align: middle;\n",
       "    }\n",
       "\n",
       "    .dataframe tbody tr th {\n",
       "        vertical-align: top;\n",
       "    }\n",
       "\n",
       "    .dataframe thead th {\n",
       "        text-align: right;\n",
       "    }\n",
       "</style>\n",
       "<table border=\"1\" class=\"dataframe\">\n",
       "  <thead>\n",
       "    <tr style=\"text-align: right;\">\n",
       "      <th></th>\n",
       "      <th>Report Number</th>\n",
       "      <th>Local Case Number</th>\n",
       "      <th>Agency Name</th>\n",
       "      <th>ACRS Report Type</th>\n",
       "      <th>Crash Date/Time</th>\n",
       "      <th>Route Type</th>\n",
       "      <th>Road Name</th>\n",
       "      <th>Cross-Street Type</th>\n",
       "      <th>Cross-Street Name</th>\n",
       "      <th>Off-Road Description</th>\n",
       "      <th>Municipality</th>\n",
       "      <th>Related Non-Motorist</th>\n",
       "      <th>Collision Type</th>\n",
       "      <th>Weather</th>\n",
       "      <th>Surface Condition</th>\n",
       "      <th>Light</th>\n",
       "      <th>Traffic Control</th>\n",
       "      <th>Driver Substance Abuse</th>\n",
       "      <th>Non-Motorist Substance Abuse</th>\n",
       "      <th>Person ID</th>\n",
       "      <th>Driver At Fault</th>\n",
       "      <th>Injury Severity</th>\n",
       "      <th>Circumstance</th>\n",
       "      <th>Driver Distracted By</th>\n",
       "      <th>Drivers License State</th>\n",
       "      <th>Vehicle ID</th>\n",
       "      <th>Vehicle Damage Extent</th>\n",
       "      <th>Vehicle First Impact Location</th>\n",
       "      <th>Vehicle Second Impact Location</th>\n",
       "      <th>Vehicle Body Type</th>\n",
       "      <th>Vehicle Movement</th>\n",
       "      <th>Vehicle Continuing Dir</th>\n",
       "      <th>Vehicle Going Dir</th>\n",
       "      <th>Speed Limit</th>\n",
       "      <th>Driverless Vehicle</th>\n",
       "      <th>Parked Vehicle</th>\n",
       "      <th>Vehicle Year</th>\n",
       "      <th>Vehicle Make</th>\n",
       "      <th>Vehicle Model</th>\n",
       "      <th>Equipment Problems</th>\n",
       "      <th>Latitude</th>\n",
       "      <th>Longitude</th>\n",
       "      <th>Location</th>\n",
       "    </tr>\n",
       "  </thead>\n",
       "  <tbody>\n",
       "    <tr>\n",
       "      <th>0</th>\n",
       "      <td>MCP3170003V</td>\n",
       "      <td>240000438</td>\n",
       "      <td>Montgomery County Police</td>\n",
       "      <td>Property Damage Crash</td>\n",
       "      <td>01/03/2024 02:55:00 PM</td>\n",
       "      <td>NaN</td>\n",
       "      <td>NaN</td>\n",
       "      <td>NaN</td>\n",
       "      <td>NaN</td>\n",
       "      <td>IN FRONT OF 18900 BIRDSEYE DR</td>\n",
       "      <td>NaN</td>\n",
       "      <td>NaN</td>\n",
       "      <td>OPPOSITE DIRECTION SIDESWIPE</td>\n",
       "      <td>CLOUDY</td>\n",
       "      <td>NaN</td>\n",
       "      <td>DAYLIGHT</td>\n",
       "      <td>NO CONTROLS</td>\n",
       "      <td>NONE DETECTED</td>\n",
       "      <td>NaN</td>\n",
       "      <td>ACC015E9-08A4-4856-866E-0004005F986C</td>\n",
       "      <td>Yes</td>\n",
       "      <td>NO APPARENT INJURY</td>\n",
       "      <td>NaN</td>\n",
       "      <td>LOOKED BUT DID NOT SEE</td>\n",
       "      <td>MD</td>\n",
       "      <td>4E492574-893B-4EB1-ADCA-53FDD633D6C4</td>\n",
       "      <td>FUNCTIONAL</td>\n",
       "      <td>SEVEN OCLOCK</td>\n",
       "      <td>SEVEN OCLOCK</td>\n",
       "      <td>PASSENGER CAR</td>\n",
       "      <td>MOVING CONSTANT SPEED</td>\n",
       "      <td>South</td>\n",
       "      <td>South</td>\n",
       "      <td>0</td>\n",
       "      <td>No</td>\n",
       "      <td>No</td>\n",
       "      <td>2017</td>\n",
       "      <td>LEXUS</td>\n",
       "      <td>SUV</td>\n",
       "      <td>NO MISUSE</td>\n",
       "      <td>39.165005</td>\n",
       "      <td>-77.249310</td>\n",
       "      <td>(39.16500483, -77.24931)</td>\n",
       "    </tr>\n",
       "    <tr>\n",
       "      <th>1</th>\n",
       "      <td>MCP3254003K</td>\n",
       "      <td>230072050</td>\n",
       "      <td>Montgomery County Police</td>\n",
       "      <td>Injury Crash</td>\n",
       "      <td>12/16/2023 12:36:00 PM</td>\n",
       "      <td>Maryland (State)</td>\n",
       "      <td>GERMANTOWN RD</td>\n",
       "      <td>County</td>\n",
       "      <td>MIDDLEBROOK RD</td>\n",
       "      <td>NaN</td>\n",
       "      <td>NaN</td>\n",
       "      <td>BICYCLIST</td>\n",
       "      <td>STRAIGHT MOVEMENT ANGLE</td>\n",
       "      <td>CLEAR</td>\n",
       "      <td>DRY</td>\n",
       "      <td>DAYLIGHT</td>\n",
       "      <td>TRAFFIC SIGNAL</td>\n",
       "      <td>NONE DETECTED</td>\n",
       "      <td>NONE DETECTED</td>\n",
       "      <td>76C65B60-90BF-4706-B78A-D277E9DC2E44</td>\n",
       "      <td>No</td>\n",
       "      <td>NO APPARENT INJURY</td>\n",
       "      <td>NaN</td>\n",
       "      <td>NOT DISTRACTED</td>\n",
       "      <td>MD</td>\n",
       "      <td>6D16232C-4E1E-49A6-B3A2-7FDEF7E506F2</td>\n",
       "      <td>FUNCTIONAL</td>\n",
       "      <td>ELEVEN OCLOCK</td>\n",
       "      <td>ELEVEN OCLOCK</td>\n",
       "      <td>PASSENGER CAR</td>\n",
       "      <td>MOVING CONSTANT SPEED</td>\n",
       "      <td>North</td>\n",
       "      <td>West</td>\n",
       "      <td>35</td>\n",
       "      <td>No</td>\n",
       "      <td>No</td>\n",
       "      <td>2010</td>\n",
       "      <td>TOYT</td>\n",
       "      <td>PRIUS</td>\n",
       "      <td>NO MISUSE</td>\n",
       "      <td>39.178776</td>\n",
       "      <td>-77.267190</td>\n",
       "      <td>(39.17877577, -77.26718974)</td>\n",
       "    </tr>\n",
       "    <tr>\n",
       "      <th>2</th>\n",
       "      <td>EJ7887003Q</td>\n",
       "      <td>230074270</td>\n",
       "      <td>Gaithersburg Police Depar</td>\n",
       "      <td>Injury Crash</td>\n",
       "      <td>12/29/2023 12:00:00 PM</td>\n",
       "      <td>Maryland (State)</td>\n",
       "      <td>GREAT SENECA HWY</td>\n",
       "      <td>Municipality</td>\n",
       "      <td>KENTLANDS BLVD</td>\n",
       "      <td>NaN</td>\n",
       "      <td>GAITHERSBURG</td>\n",
       "      <td>NaN</td>\n",
       "      <td>SAME DIR REAR END</td>\n",
       "      <td>CLEAR</td>\n",
       "      <td>DRY</td>\n",
       "      <td>DAYLIGHT</td>\n",
       "      <td>TRAFFIC SIGNAL</td>\n",
       "      <td>NONE DETECTED</td>\n",
       "      <td>NaN</td>\n",
       "      <td>B27B0A06-056C-4963-BCE7-2AE19BAD7061</td>\n",
       "      <td>No</td>\n",
       "      <td>SUSPECTED MINOR INJURY</td>\n",
       "      <td>NaN</td>\n",
       "      <td>NOT DISTRACTED</td>\n",
       "      <td>MD</td>\n",
       "      <td>82ED056D-33FA-44A5-AA2B-8DCE653FA03C</td>\n",
       "      <td>FUNCTIONAL</td>\n",
       "      <td>SIX OCLOCK</td>\n",
       "      <td>SIX OCLOCK</td>\n",
       "      <td>(SPORT) UTILITY VEHICLE</td>\n",
       "      <td>MOVING CONSTANT SPEED</td>\n",
       "      <td>South</td>\n",
       "      <td>South</td>\n",
       "      <td>35</td>\n",
       "      <td>No</td>\n",
       "      <td>No</td>\n",
       "      <td>2021</td>\n",
       "      <td>SUBARU</td>\n",
       "      <td>FORRESTER</td>\n",
       "      <td>NO MISUSE</td>\n",
       "      <td>39.123574</td>\n",
       "      <td>-77.231769</td>\n",
       "      <td>(39.12357374, -77.231769)</td>\n",
       "    </tr>\n",
       "    <tr>\n",
       "      <th>3</th>\n",
       "      <td>MCP2674004J</td>\n",
       "      <td>230064598</td>\n",
       "      <td>Montgomery County Police</td>\n",
       "      <td>Property Damage Crash</td>\n",
       "      <td>11/05/2023 09:07:00 PM</td>\n",
       "      <td>Maryland (State)</td>\n",
       "      <td>WOODFIELD RD</td>\n",
       "      <td>County</td>\n",
       "      <td>GLENDALOUGH RD</td>\n",
       "      <td>NaN</td>\n",
       "      <td>NaN</td>\n",
       "      <td>NaN</td>\n",
       "      <td>SINGLE VEHICLE</td>\n",
       "      <td>CLEAR</td>\n",
       "      <td>DRY</td>\n",
       "      <td>DARK LIGHTS ON</td>\n",
       "      <td>NO CONTROLS</td>\n",
       "      <td>NONE DETECTED</td>\n",
       "      <td>NaN</td>\n",
       "      <td>59A2A81B-B4F7-4FCE-B8C4-A2EC656A177D</td>\n",
       "      <td>No</td>\n",
       "      <td>NO APPARENT INJURY</td>\n",
       "      <td>ANIMAL, N/A</td>\n",
       "      <td>NOT DISTRACTED</td>\n",
       "      <td>MD</td>\n",
       "      <td>3CD099CA-F5FF-4174-B184-02BCF2C89934</td>\n",
       "      <td>FUNCTIONAL</td>\n",
       "      <td>ONE OCLOCK</td>\n",
       "      <td>ONE OCLOCK</td>\n",
       "      <td>POLICE VEHICLE/NON EMERGENCY</td>\n",
       "      <td>MOVING CONSTANT SPEED</td>\n",
       "      <td>South</td>\n",
       "      <td>South</td>\n",
       "      <td>40</td>\n",
       "      <td>No</td>\n",
       "      <td>No</td>\n",
       "      <td>2019</td>\n",
       "      <td>DODGE</td>\n",
       "      <td>CHARGER</td>\n",
       "      <td>NO MISUSE</td>\n",
       "      <td>39.211742</td>\n",
       "      <td>-77.171461</td>\n",
       "      <td>(39.21174219, -77.17146065)</td>\n",
       "    </tr>\n",
       "    <tr>\n",
       "      <th>4</th>\n",
       "      <td>MCP25280008</td>\n",
       "      <td>230067019</td>\n",
       "      <td>Montgomery County Police</td>\n",
       "      <td>Property Damage Crash</td>\n",
       "      <td>11/18/2023 12:40:00 AM</td>\n",
       "      <td>Maryland (State)</td>\n",
       "      <td>CLARKSBURG RD</td>\n",
       "      <td>Maryland (State)</td>\n",
       "      <td>CLARKSBURG RD</td>\n",
       "      <td>NaN</td>\n",
       "      <td>NaN</td>\n",
       "      <td>NaN</td>\n",
       "      <td>SINGLE VEHICLE</td>\n",
       "      <td>RAINING</td>\n",
       "      <td>WET</td>\n",
       "      <td>DARK LIGHTS ON</td>\n",
       "      <td>YIELD SIGN</td>\n",
       "      <td>NONE DETECTED</td>\n",
       "      <td>NaN</td>\n",
       "      <td>BACFA4BA-C75D-46A4-A181-1B4C0C3F8592</td>\n",
       "      <td>Yes</td>\n",
       "      <td>NO APPARENT INJURY</td>\n",
       "      <td>RAIN, SNOW, WET</td>\n",
       "      <td>NOT DISTRACTED</td>\n",
       "      <td>MD</td>\n",
       "      <td>64940511-7ACF-4F66-9A1B-5F476A46C2A5</td>\n",
       "      <td>DISABLING</td>\n",
       "      <td>ELEVEN OCLOCK</td>\n",
       "      <td>ELEVEN OCLOCK</td>\n",
       "      <td>PASSENGER CAR</td>\n",
       "      <td>MOVING CONSTANT SPEED</td>\n",
       "      <td>North</td>\n",
       "      <td>North</td>\n",
       "      <td>20</td>\n",
       "      <td>No</td>\n",
       "      <td>No</td>\n",
       "      <td>2014</td>\n",
       "      <td>NISSAN</td>\n",
       "      <td>ROGUE</td>\n",
       "      <td>NaN</td>\n",
       "      <td>39.228915</td>\n",
       "      <td>-77.289091</td>\n",
       "      <td>(39.22891483, -77.28909117)</td>\n",
       "    </tr>\n",
       "  </tbody>\n",
       "</table>\n",
       "</div>"
      ],
      "text/plain": [
       "  Report Number Local Case Number                Agency Name  \\\n",
       "0   MCP3170003V         240000438   Montgomery County Police   \n",
       "1   MCP3254003K         230072050   Montgomery County Police   \n",
       "2    EJ7887003Q         230074270  Gaithersburg Police Depar   \n",
       "3   MCP2674004J         230064598   Montgomery County Police   \n",
       "4   MCP25280008         230067019   Montgomery County Police   \n",
       "\n",
       "        ACRS Report Type         Crash Date/Time        Route Type  \\\n",
       "0  Property Damage Crash  01/03/2024 02:55:00 PM               NaN   \n",
       "1           Injury Crash  12/16/2023 12:36:00 PM  Maryland (State)   \n",
       "2           Injury Crash  12/29/2023 12:00:00 PM  Maryland (State)   \n",
       "3  Property Damage Crash  11/05/2023 09:07:00 PM  Maryland (State)   \n",
       "4  Property Damage Crash  11/18/2023 12:40:00 AM  Maryland (State)   \n",
       "\n",
       "          Road Name Cross-Street Type Cross-Street Name  \\\n",
       "0               NaN               NaN               NaN   \n",
       "1     GERMANTOWN RD            County    MIDDLEBROOK RD   \n",
       "2  GREAT SENECA HWY      Municipality    KENTLANDS BLVD   \n",
       "3      WOODFIELD RD            County    GLENDALOUGH RD   \n",
       "4     CLARKSBURG RD  Maryland (State)     CLARKSBURG RD   \n",
       "\n",
       "            Off-Road Description  Municipality Related Non-Motorist  \\\n",
       "0  IN FRONT OF 18900 BIRDSEYE DR           NaN                  NaN   \n",
       "1                            NaN           NaN            BICYCLIST   \n",
       "2                            NaN  GAITHERSBURG                  NaN   \n",
       "3                            NaN           NaN                  NaN   \n",
       "4                            NaN           NaN                  NaN   \n",
       "\n",
       "                 Collision Type  Weather Surface Condition           Light  \\\n",
       "0  OPPOSITE DIRECTION SIDESWIPE   CLOUDY               NaN        DAYLIGHT   \n",
       "1       STRAIGHT MOVEMENT ANGLE    CLEAR               DRY        DAYLIGHT   \n",
       "2             SAME DIR REAR END    CLEAR               DRY        DAYLIGHT   \n",
       "3                SINGLE VEHICLE    CLEAR               DRY  DARK LIGHTS ON   \n",
       "4                SINGLE VEHICLE  RAINING               WET  DARK LIGHTS ON   \n",
       "\n",
       "  Traffic Control Driver Substance Abuse Non-Motorist Substance Abuse  \\\n",
       "0     NO CONTROLS          NONE DETECTED                          NaN   \n",
       "1  TRAFFIC SIGNAL          NONE DETECTED                NONE DETECTED   \n",
       "2  TRAFFIC SIGNAL          NONE DETECTED                          NaN   \n",
       "3     NO CONTROLS          NONE DETECTED                          NaN   \n",
       "4      YIELD SIGN          NONE DETECTED                          NaN   \n",
       "\n",
       "                              Person ID Driver At Fault  \\\n",
       "0  ACC015E9-08A4-4856-866E-0004005F986C             Yes   \n",
       "1  76C65B60-90BF-4706-B78A-D277E9DC2E44              No   \n",
       "2  B27B0A06-056C-4963-BCE7-2AE19BAD7061              No   \n",
       "3  59A2A81B-B4F7-4FCE-B8C4-A2EC656A177D              No   \n",
       "4  BACFA4BA-C75D-46A4-A181-1B4C0C3F8592             Yes   \n",
       "\n",
       "          Injury Severity     Circumstance    Driver Distracted By  \\\n",
       "0      NO APPARENT INJURY              NaN  LOOKED BUT DID NOT SEE   \n",
       "1      NO APPARENT INJURY              NaN          NOT DISTRACTED   \n",
       "2  SUSPECTED MINOR INJURY              NaN          NOT DISTRACTED   \n",
       "3      NO APPARENT INJURY      ANIMAL, N/A          NOT DISTRACTED   \n",
       "4      NO APPARENT INJURY  RAIN, SNOW, WET          NOT DISTRACTED   \n",
       "\n",
       "  Drivers License State                            Vehicle ID  \\\n",
       "0                    MD  4E492574-893B-4EB1-ADCA-53FDD633D6C4   \n",
       "1                    MD  6D16232C-4E1E-49A6-B3A2-7FDEF7E506F2   \n",
       "2                    MD  82ED056D-33FA-44A5-AA2B-8DCE653FA03C   \n",
       "3                    MD  3CD099CA-F5FF-4174-B184-02BCF2C89934   \n",
       "4                    MD  64940511-7ACF-4F66-9A1B-5F476A46C2A5   \n",
       "\n",
       "  Vehicle Damage Extent Vehicle First Impact Location  \\\n",
       "0            FUNCTIONAL                  SEVEN OCLOCK   \n",
       "1            FUNCTIONAL                 ELEVEN OCLOCK   \n",
       "2            FUNCTIONAL                    SIX OCLOCK   \n",
       "3            FUNCTIONAL                    ONE OCLOCK   \n",
       "4             DISABLING                 ELEVEN OCLOCK   \n",
       "\n",
       "  Vehicle Second Impact Location             Vehicle Body Type  \\\n",
       "0                   SEVEN OCLOCK                 PASSENGER CAR   \n",
       "1                  ELEVEN OCLOCK                 PASSENGER CAR   \n",
       "2                     SIX OCLOCK       (SPORT) UTILITY VEHICLE   \n",
       "3                     ONE OCLOCK  POLICE VEHICLE/NON EMERGENCY   \n",
       "4                  ELEVEN OCLOCK                 PASSENGER CAR   \n",
       "\n",
       "        Vehicle Movement Vehicle Continuing Dir Vehicle Going Dir  \\\n",
       "0  MOVING CONSTANT SPEED                  South             South   \n",
       "1  MOVING CONSTANT SPEED                  North              West   \n",
       "2  MOVING CONSTANT SPEED                  South             South   \n",
       "3  MOVING CONSTANT SPEED                  South             South   \n",
       "4  MOVING CONSTANT SPEED                  North             North   \n",
       "\n",
       "   Speed Limit Driverless Vehicle Parked Vehicle  Vehicle Year Vehicle Make  \\\n",
       "0            0                 No             No          2017        LEXUS   \n",
       "1           35                 No             No          2010         TOYT   \n",
       "2           35                 No             No          2021       SUBARU   \n",
       "3           40                 No             No          2019        DODGE   \n",
       "4           20                 No             No          2014       NISSAN   \n",
       "\n",
       "  Vehicle Model Equipment Problems   Latitude  Longitude  \\\n",
       "0           SUV          NO MISUSE  39.165005 -77.249310   \n",
       "1         PRIUS          NO MISUSE  39.178776 -77.267190   \n",
       "2     FORRESTER          NO MISUSE  39.123574 -77.231769   \n",
       "3       CHARGER          NO MISUSE  39.211742 -77.171461   \n",
       "4         ROGUE                NaN  39.228915 -77.289091   \n",
       "\n",
       "                      Location  \n",
       "0     (39.16500483, -77.24931)  \n",
       "1  (39.17877577, -77.26718974)  \n",
       "2    (39.12357374, -77.231769)  \n",
       "3  (39.21174219, -77.17146065)  \n",
       "4  (39.22891483, -77.28909117)  "
      ]
     },
     "execution_count": 4,
     "metadata": {},
     "output_type": "execute_result"
    }
   ],
   "source": [
    "pd.set_option('display.max_columns', None) # pandas setting for seeing all coulmns\n",
    "df.head() # Show the first 5 rows of the DataFrame"
   ]
  },
  {
   "cell_type": "code",
   "execution_count": 5,
   "id": "bb6e6837",
   "metadata": {
    "execution": {
     "iopub.execute_input": "2024-09-19T17:41:24.509005Z",
     "iopub.status.busy": "2024-09-19T17:41:24.508248Z",
     "iopub.status.idle": "2024-09-19T17:41:24.822593Z",
     "shell.execute_reply": "2024-09-19T17:41:24.821113Z"
    },
    "id": "-6_VFPiF1i5e",
    "outputId": "cf7f82d5-3e36-4c25-8303-1042cdfbcfe6",
    "papermill": {
     "duration": 0.329656,
     "end_time": "2024-09-19T17:41:24.825367",
     "exception": false,
     "start_time": "2024-09-19T17:41:24.495711",
     "status": "completed"
    },
    "tags": []
   },
   "outputs": [
    {
     "name": "stdout",
     "output_type": "stream",
     "text": [
      "<class 'pandas.core.frame.DataFrame'>\n",
      "RangeIndex: 172105 entries, 0 to 172104\n",
      "Data columns (total 43 columns):\n",
      " #   Column                          Non-Null Count   Dtype  \n",
      "---  ------                          --------------   -----  \n",
      " 0   Report Number                   172105 non-null  object \n",
      " 1   Local Case Number               172105 non-null  object \n",
      " 2   Agency Name                     172105 non-null  object \n",
      " 3   ACRS Report Type                172105 non-null  object \n",
      " 4   Crash Date/Time                 172105 non-null  object \n",
      " 5   Route Type                      155132 non-null  object \n",
      " 6   Road Name                       156168 non-null  object \n",
      " 7   Cross-Street Type               155099 non-null  object \n",
      " 8   Cross-Street Name               156154 non-null  object \n",
      " 9   Off-Road Description            15935 non-null   object \n",
      " 10  Municipality                    19126 non-null   object \n",
      " 11  Related Non-Motorist            5463 non-null    object \n",
      " 12  Collision Type                  171520 non-null  object \n",
      " 13  Weather                         158751 non-null  object \n",
      " 14  Surface Condition               151987 non-null  object \n",
      " 15  Light                           170660 non-null  object \n",
      " 16  Traffic Control                 146636 non-null  object \n",
      " 17  Driver Substance Abuse          140781 non-null  object \n",
      " 18  Non-Motorist Substance Abuse    4317 non-null    object \n",
      " 19  Person ID                       172105 non-null  object \n",
      " 20  Driver At Fault                 172105 non-null  object \n",
      " 21  Injury Severity                 172105 non-null  object \n",
      " 22  Circumstance                    31359 non-null   object \n",
      " 23  Driver Distracted By            172105 non-null  object \n",
      " 24  Drivers License State           162155 non-null  object \n",
      " 25  Vehicle ID                      172105 non-null  object \n",
      " 26  Vehicle Damage Extent           171789 non-null  object \n",
      " 27  Vehicle First Impact Location   171949 non-null  object \n",
      " 28  Vehicle Second Impact Location  171849 non-null  object \n",
      " 29  Vehicle Body Type               169456 non-null  object \n",
      " 30  Vehicle Movement                171719 non-null  object \n",
      " 31  Vehicle Continuing Dir          169416 non-null  object \n",
      " 32  Vehicle Going Dir               169416 non-null  object \n",
      " 33  Speed Limit                     172105 non-null  int64  \n",
      " 34  Driverless Vehicle              172105 non-null  object \n",
      " 35  Parked Vehicle                  172105 non-null  object \n",
      " 36  Vehicle Year                    172105 non-null  int64  \n",
      " 37  Vehicle Make                    172081 non-null  object \n",
      " 38  Vehicle Model                   172039 non-null  object \n",
      " 39  Equipment Problems              137964 non-null  object \n",
      " 40  Latitude                        172105 non-null  float64\n",
      " 41  Longitude                       172105 non-null  float64\n",
      " 42  Location                        172105 non-null  object \n",
      "dtypes: float64(2), int64(2), object(39)\n",
      "memory usage: 56.5+ MB\n"
     ]
    }
   ],
   "source": [
    "df.info() # Display concise summary of the DataFrame, including data types and non-null counts"
   ]
  },
  {
   "cell_type": "code",
   "execution_count": 6,
   "id": "dc211c78",
   "metadata": {
    "execution": {
     "iopub.execute_input": "2024-09-19T17:41:24.850995Z",
     "iopub.status.busy": "2024-09-19T17:41:24.850172Z",
     "iopub.status.idle": "2024-09-19T17:41:24.875978Z",
     "shell.execute_reply": "2024-09-19T17:41:24.874932Z"
    },
    "id": "N6y0bIr01i5f",
    "outputId": "87b4c8d4-ce9f-4704-b5d9-10016130a2d8",
    "papermill": {
     "duration": 0.041448,
     "end_time": "2024-09-19T17:41:24.878665",
     "exception": false,
     "start_time": "2024-09-19T17:41:24.837217",
     "status": "completed"
    },
    "tags": []
   },
   "outputs": [
    {
     "data": {
      "text/plain": [
       "<bound method NDFrame.describe of        Report Number Local Case Number                Agency Name  \\\n",
       "0        MCP3170003V         240000438   Montgomery County Police   \n",
       "1        MCP3254003K         230072050   Montgomery County Police   \n",
       "2         EJ7887003Q         230074270  Gaithersburg Police Depar   \n",
       "3        MCP2674004J         230064598   Montgomery County Police   \n",
       "4        MCP25280008         230067019   Montgomery County Police   \n",
       "...              ...               ...                        ...   \n",
       "172100    DM8338000C          16010228  Takoma Park Police Depart   \n",
       "172101   MCP1182001S         170519976   Montgomery County Police   \n",
       "172102   MCP1453008X         200046217   Montgomery County Police   \n",
       "172103   MCP2568000M         190056701   Montgomery County Police   \n",
       "172104   MCP1048000P          15003337   Montgomery County Police   \n",
       "\n",
       "             ACRS Report Type         Crash Date/Time        Route Type  \\\n",
       "0       Property Damage Crash  01/03/2024 02:55:00 PM               NaN   \n",
       "1                Injury Crash  12/16/2023 12:36:00 PM  Maryland (State)   \n",
       "2                Injury Crash  12/29/2023 12:00:00 PM  Maryland (State)   \n",
       "3       Property Damage Crash  11/05/2023 09:07:00 PM  Maryland (State)   \n",
       "4       Property Damage Crash  11/18/2023 12:40:00 AM  Maryland (State)   \n",
       "...                       ...                     ...               ...   \n",
       "172100  Property Damage Crash  03/01/2016 10:01:00 AM      Municipality   \n",
       "172101  Property Damage Crash  07/19/2017 02:22:00 PM            County   \n",
       "172102  Property Damage Crash  11/23/2020 07:37:00 AM  Maryland (State)   \n",
       "172103  Property Damage Crash  11/23/2019 11:23:00 PM            County   \n",
       "172104  Property Damage Crash  01/21/2015 09:02:00 AM  Maryland (State)   \n",
       "\n",
       "                       Road Name Cross-Street Type  \\\n",
       "0                            NaN               NaN   \n",
       "1                  GERMANTOWN RD            County   \n",
       "2               GREAT SENECA HWY      Municipality   \n",
       "3                   WOODFIELD RD            County   \n",
       "4                  CLARKSBURG RD  Maryland (State)   \n",
       "...                          ...               ...   \n",
       "172100  NEW HAMPSHIRE SERVICE LA      Municipality   \n",
       "172101                  CEDAR LA  Maryland (State)   \n",
       "172102                  RIDGE RD           Unknown   \n",
       "172103            SHADY GROVE RD              Ramp   \n",
       "172104              FREDERICK RD      Municipality   \n",
       "\n",
       "                            Cross-Street Name           Off-Road Description  \\\n",
       "0                                         NaN  IN FRONT OF 18900 BIRDSEYE DR   \n",
       "1                              MIDDLEBROOK RD                            NaN   \n",
       "2                              KENTLANDS BLVD                            NaN   \n",
       "3                              GLENDALOUGH RD                            NaN   \n",
       "4                               CLARKSBURG RD                            NaN   \n",
       "...                                       ...                            ...   \n",
       "172100                     PRINCE GEORGES AVE                            NaN   \n",
       "172101                      OLD GEORGETOWN RD                            NaN   \n",
       "172102                     LITTLE SENECA PKWY                            NaN   \n",
       "172103  RAMP 9 FR IS 370 EB TO SHADY GROVE RD                            NaN   \n",
       "172104                              W GUDE DR                            NaN   \n",
       "\n",
       "        Municipality Related Non-Motorist                Collision Type  \\\n",
       "0                NaN                  NaN  OPPOSITE DIRECTION SIDESWIPE   \n",
       "1                NaN            BICYCLIST       STRAIGHT MOVEMENT ANGLE   \n",
       "2       GAITHERSBURG                  NaN             SAME DIR REAR END   \n",
       "3                NaN                  NaN                SINGLE VEHICLE   \n",
       "4                NaN                  NaN                SINGLE VEHICLE   \n",
       "...              ...                  ...                           ...   \n",
       "172100   TAKOMA PARK                  NaN                         OTHER   \n",
       "172101           NaN                  NaN             SAME DIR REAR END   \n",
       "172102           NaN                  NaN             SAME DIR REAR END   \n",
       "172103           NaN                  NaN         ANGLE MEETS LEFT TURN   \n",
       "172104     ROCKVILLE                  NaN                         OTHER   \n",
       "\n",
       "        Weather Surface Condition           Light Traffic Control  \\\n",
       "0        CLOUDY               NaN        DAYLIGHT     NO CONTROLS   \n",
       "1         CLEAR               DRY        DAYLIGHT  TRAFFIC SIGNAL   \n",
       "2         CLEAR               DRY        DAYLIGHT  TRAFFIC SIGNAL   \n",
       "3         CLEAR               DRY  DARK LIGHTS ON     NO CONTROLS   \n",
       "4       RAINING               WET  DARK LIGHTS ON      YIELD SIGN   \n",
       "...         ...               ...             ...             ...   \n",
       "172100    CLEAR               DRY        DAYLIGHT             NaN   \n",
       "172101    CLEAR               DRY        DAYLIGHT     NO CONTROLS   \n",
       "172102   CLOUDY               DRY        DAYLIGHT     NO CONTROLS   \n",
       "172103  RAINING               WET  DARK LIGHTS ON  TRAFFIC SIGNAL   \n",
       "172104   CLOUDY               WET        DAYLIGHT             NaN   \n",
       "\n",
       "       Driver Substance Abuse Non-Motorist Substance Abuse  \\\n",
       "0               NONE DETECTED                          NaN   \n",
       "1               NONE DETECTED                NONE DETECTED   \n",
       "2               NONE DETECTED                          NaN   \n",
       "3               NONE DETECTED                          NaN   \n",
       "4               NONE DETECTED                          NaN   \n",
       "...                       ...                          ...   \n",
       "172100                    NaN                          NaN   \n",
       "172101                    NaN                          NaN   \n",
       "172102          NONE DETECTED                          NaN   \n",
       "172103          NONE DETECTED                          NaN   \n",
       "172104                    NaN                          NaN   \n",
       "\n",
       "                                   Person ID Driver At Fault  \\\n",
       "0       ACC015E9-08A4-4856-866E-0004005F986C             Yes   \n",
       "1       76C65B60-90BF-4706-B78A-D277E9DC2E44              No   \n",
       "2       B27B0A06-056C-4963-BCE7-2AE19BAD7061              No   \n",
       "3       59A2A81B-B4F7-4FCE-B8C4-A2EC656A177D              No   \n",
       "4       BACFA4BA-C75D-46A4-A181-1B4C0C3F8592             Yes   \n",
       "...                                      ...             ...   \n",
       "172100  BA80DDDE-3324-407D-9FB3-1836FCAAE2C6              No   \n",
       "172101  7C147700-DF4B-4343-AA96-2056FFC1A588             Yes   \n",
       "172102  470ABCF2-C6D3-4C23-B503-57BAEC974BDD              No   \n",
       "172103  F8402B27-9E38-4602-B4FA-1CF604036EDD              No   \n",
       "172104  5A4ECFEB-9D5D-4ED6-B95C-3222E0E76821             Yes   \n",
       "\n",
       "               Injury Severity     Circumstance    Driver Distracted By  \\\n",
       "0           NO APPARENT INJURY              NaN  LOOKED BUT DID NOT SEE   \n",
       "1           NO APPARENT INJURY              NaN          NOT DISTRACTED   \n",
       "2       SUSPECTED MINOR INJURY              NaN          NOT DISTRACTED   \n",
       "3           NO APPARENT INJURY      ANIMAL, N/A          NOT DISTRACTED   \n",
       "4           NO APPARENT INJURY  RAIN, SNOW, WET          NOT DISTRACTED   \n",
       "...                        ...              ...                     ...   \n",
       "172100      NO APPARENT INJURY              NaN          NOT DISTRACTED   \n",
       "172101      NO APPARENT INJURY              NaN  LOOKED BUT DID NOT SEE   \n",
       "172102      NO APPARENT INJURY              NaN          NOT DISTRACTED   \n",
       "172103      NO APPARENT INJURY  RAIN, SNOW, WET          NOT DISTRACTED   \n",
       "172104      NO APPARENT INJURY         N/A, WET          NOT DISTRACTED   \n",
       "\n",
       "       Drivers License State                            Vehicle ID  \\\n",
       "0                         MD  4E492574-893B-4EB1-ADCA-53FDD633D6C4   \n",
       "1                         MD  6D16232C-4E1E-49A6-B3A2-7FDEF7E506F2   \n",
       "2                         MD  82ED056D-33FA-44A5-AA2B-8DCE653FA03C   \n",
       "3                         MD  3CD099CA-F5FF-4174-B184-02BCF2C89934   \n",
       "4                         MD  64940511-7ACF-4F66-9A1B-5F476A46C2A5   \n",
       "...                      ...                                   ...   \n",
       "172100                    MD  81DAD2F7-8D4A-4316-B40D-FAD4A4587B28   \n",
       "172101                    VA  DF427BFB-94E2-454E-9C46-82C8E286B992   \n",
       "172102                    MD  CD875BDC-5B10-47F6-B3E7-7C091A71FB5D   \n",
       "172103                    MD  15D3D66B-8337-4E7A-BAE6-855C02AE1CA7   \n",
       "172104                    MD  331A1FE9-959E-4C86-9A12-F5ED3C3BF3B1   \n",
       "\n",
       "       Vehicle Damage Extent Vehicle First Impact Location  \\\n",
       "0                 FUNCTIONAL                  SEVEN OCLOCK   \n",
       "1                 FUNCTIONAL                 ELEVEN OCLOCK   \n",
       "2                 FUNCTIONAL                    SIX OCLOCK   \n",
       "3                 FUNCTIONAL                    ONE OCLOCK   \n",
       "4                  DISABLING                 ELEVEN OCLOCK   \n",
       "...                      ...                           ...   \n",
       "172100           SUPERFICIAL                    ONE OCLOCK   \n",
       "172101             DISABLING                 TWELVE OCLOCK   \n",
       "172102            FUNCTIONAL                    SIX OCLOCK   \n",
       "172103            FUNCTIONAL                    ONE OCLOCK   \n",
       "172104            FUNCTIONAL                    TWO OCLOCK   \n",
       "\n",
       "       Vehicle Second Impact Location             Vehicle Body Type  \\\n",
       "0                        SEVEN OCLOCK                 PASSENGER CAR   \n",
       "1                       ELEVEN OCLOCK                 PASSENGER CAR   \n",
       "2                          SIX OCLOCK       (SPORT) UTILITY VEHICLE   \n",
       "3                          ONE OCLOCK  POLICE VEHICLE/NON EMERGENCY   \n",
       "4                       ELEVEN OCLOCK                 PASSENGER CAR   \n",
       "...                               ...                           ...   \n",
       "172100                     ONE OCLOCK      POLICE VEHICLE/EMERGENCY   \n",
       "172101                  TWELVE OCLOCK                 PASSENGER CAR   \n",
       "172102                     SIX OCLOCK                           VAN   \n",
       "172103                     ONE OCLOCK                           VAN   \n",
       "172104                     TWO OCLOCK                 PASSENGER CAR   \n",
       "\n",
       "             Vehicle Movement Vehicle Continuing Dir Vehicle Going Dir  \\\n",
       "0       MOVING CONSTANT SPEED                  South             South   \n",
       "1       MOVING CONSTANT SPEED                  North              West   \n",
       "2       MOVING CONSTANT SPEED                  South             South   \n",
       "3       MOVING CONSTANT SPEED                  South             South   \n",
       "4       MOVING CONSTANT SPEED                  North             North   \n",
       "...                       ...                    ...               ...   \n",
       "172100    SLOWING OR STOPPING                   East              East   \n",
       "172101    SLOWING OR STOPPING                   East              East   \n",
       "172102    SLOWING OR STOPPING                  North             North   \n",
       "172103       MAKING LEFT TURN                   East             South   \n",
       "172104   LEAVING TRAFFIC LANE                  North             North   \n",
       "\n",
       "        Speed Limit Driverless Vehicle Parked Vehicle  Vehicle Year  \\\n",
       "0                 0                 No             No          2017   \n",
       "1                35                 No             No          2010   \n",
       "2                35                 No             No          2021   \n",
       "3                40                 No             No          2019   \n",
       "4                20                 No             No          2014   \n",
       "...             ...                ...            ...           ...   \n",
       "172100           25                 No             No          2016   \n",
       "172101           35                 No             No          2008   \n",
       "172102           40                 No             No          2008   \n",
       "172103           35                 No             No          2018   \n",
       "172104           35                 No             No          2011   \n",
       "\n",
       "       Vehicle Make Vehicle Model Equipment Problems   Latitude  Longitude  \\\n",
       "0             LEXUS           SUV          NO MISUSE  39.165005 -77.249310   \n",
       "1              TOYT         PRIUS          NO MISUSE  39.178776 -77.267190   \n",
       "2            SUBARU     FORRESTER          NO MISUSE  39.123574 -77.231769   \n",
       "3             DODGE       CHARGER          NO MISUSE  39.211742 -77.171461   \n",
       "4            NISSAN         ROGUE                NaN  39.228915 -77.289091   \n",
       "...             ...           ...                ...        ...        ...   \n",
       "172100         FORD      EXPLORER          NO MISUSE  38.972560 -76.997466   \n",
       "172101       NISSAN        ALTIMA          NO MISUSE  39.004640 -77.108502   \n",
       "172102    CHEVROLET       EXPRESS          NO MISUSE  39.228963 -77.236757   \n",
       "172103         FORD   TRANSIT VAN          NO MISUSE  39.120440 -77.180047   \n",
       "172104        HONDA           CRV                NaN  39.106847 -77.158380   \n",
       "\n",
       "                           Location  \n",
       "0          (39.16500483, -77.24931)  \n",
       "1       (39.17877577, -77.26718974)  \n",
       "2         (39.12357374, -77.231769)  \n",
       "3       (39.21174219, -77.17146065)  \n",
       "4       (39.22891483, -77.28909117)  \n",
       "...                             ...  \n",
       "172100  (38.97255976, -76.99746609)  \n",
       "172101     (39.00464, -77.10850167)  \n",
       "172102  (39.22896333, -77.23675667)  \n",
       "172103  (39.12043995, -77.18004738)  \n",
       "172104     (39.10684667, -77.15838)  \n",
       "\n",
       "[172105 rows x 43 columns]>"
      ]
     },
     "execution_count": 6,
     "metadata": {},
     "output_type": "execute_result"
    }
   ],
   "source": [
    "df.describe  # Generate descriptive statistics for numerical columns in the DataFrame"
   ]
  },
  {
   "cell_type": "markdown",
   "id": "a50e0455",
   "metadata": {
    "id": "vzoCUN3POrj4",
    "papermill": {
     "duration": 0.011838,
     "end_time": "2024-09-19T17:41:24.903112",
     "exception": false,
     "start_time": "2024-09-19T17:41:24.891274",
     "status": "completed"
    },
    "tags": []
   },
   "source": [
    "**---------- Hedef Değişkenin Dağılımı ----------**"
   ]
  },
  {
   "cell_type": "code",
   "execution_count": 7,
   "id": "ae5ffad9",
   "metadata": {
    "execution": {
     "iopub.execute_input": "2024-09-19T17:41:24.928774Z",
     "iopub.status.busy": "2024-09-19T17:41:24.928379Z",
     "iopub.status.idle": "2024-09-19T17:41:25.261200Z",
     "shell.execute_reply": "2024-09-19T17:41:25.260113Z"
    },
    "id": "MNvBOEIr1i5f",
    "outputId": "01c36d0b-ad7a-45de-9c81-6ea0a24dc9c2",
    "papermill": {
     "duration": 0.348541,
     "end_time": "2024-09-19T17:41:25.263742",
     "exception": false,
     "start_time": "2024-09-19T17:41:24.915201",
     "status": "completed"
    },
    "tags": []
   },
   "outputs": [
    {
     "data": {
      "image/png": "[encoded data removed]",
      "text/plain": [
       "<Figure size 800x600 with 1 Axes>"
      ]
     },
     "metadata": {},
     "output_type": "display_data"
    }
   ],
   "source": [
    "plt.figure(figsize=(8, 6))  # Set the figure size for the plot\n",
    "sns.countplot(x='Driver At Fault', data=df)  # Create a count plot for the 'Driver At Fault' column\n",
    "plt.title('Hedef Değişken Dağılımı')  # Set the title of the plot\n",
    "plt.xlabel('Driver At Fault')  # Label for the x-axis\n",
    "plt.ylabel('Sayı')  # Label for the y-axis\n",
    "plt.show()  # Display the plot\n"
   ]
  },
  {
   "cell_type": "markdown",
   "id": "330ecb49",
   "metadata": {
    "id": "crLfMgFB1i5h",
    "papermill": {
     "duration": 0.012244,
     "end_time": "2024-09-19T17:41:25.289312",
     "exception": false,
     "start_time": "2024-09-19T17:41:25.277068",
     "status": "completed"
    },
    "tags": []
   },
   "source": [
    "**EKSİK VERİ**"
   ]
  },
  {
   "cell_type": "markdown",
   "id": "1edad485",
   "metadata": {
    "id": "2tL26_DyihQ9",
    "papermill": {
     "duration": 0.012073,
     "end_time": "2024-09-19T17:41:25.314006",
     "exception": false,
     "start_time": "2024-09-19T17:41:25.301933",
     "status": "completed"
    },
    "tags": []
   },
   "source": [
    "**---------- Kolonlardaki Eksik Veri Dağılımı ----------**"
   ]
  },
  {
   "cell_type": "code",
   "execution_count": 8,
   "id": "6c006528",
   "metadata": {
    "execution": {
     "iopub.execute_input": "2024-09-19T17:41:25.340500Z",
     "iopub.status.busy": "2024-09-19T17:41:25.340070Z",
     "iopub.status.idle": "2024-09-19T17:41:26.178685Z",
     "shell.execute_reply": "2024-09-19T17:41:26.177537Z"
    },
    "id": "063WVI1P1i5i",
    "outputId": "c07700ba-6e66-410e-8755-93da5a001084",
    "papermill": {
     "duration": 0.855829,
     "end_time": "2024-09-19T17:41:26.182230",
     "exception": false,
     "start_time": "2024-09-19T17:41:25.326401",
     "status": "completed"
    },
    "tags": []
   },
   "outputs": [
    {
     "data": {
      "image/png": "[encoded data removed]",
      "text/plain": [
       "<Figure size 1200x800 with 1 Axes>"
      ]
     },
     "metadata": {},
     "output_type": "display_data"
    }
   ],
   "source": [
    "missing_data = df.isnull().sum()  # Calculate the number of missing values in each column\n",
    "missing_data = missing_data[missing_data > 0]  # Filter columns with missing values\n",
    "\n",
    "plt.figure(figsize=(12, 8))  # Set the figure size for the plot\n",
    "missing_data.plot(kind='bar')  # Create a bar plot of missing data\n",
    "plt.title('Eksik Veri Dağılımı')  # Set the title of the plot\n",
    "plt.xlabel('Kolonlar')  # Label for the x-axis\n",
    "plt.ylabel('Eksik Değer Sayısı')  # Label for the y-axis\n",
    "plt.xticks(rotation=90)  # Rotate x-axis labels for better readability\n",
    "plt.show()  # Display the plot\n"
   ]
  },
  {
   "cell_type": "markdown",
   "id": "67dc9e49",
   "metadata": {
    "id": "f5w8qod1iJ26",
    "papermill": {
     "duration": 0.014587,
     "end_time": "2024-09-19T17:41:26.216355",
     "exception": false,
     "start_time": "2024-09-19T17:41:26.201768",
     "status": "completed"
    },
    "tags": []
   },
   "source": [
    "**---------- Kolonlardaki Eksik Veri Sayısı ----------**"
   ]
  },
  {
   "cell_type": "code",
   "execution_count": 9,
   "id": "fbf3a62d",
   "metadata": {
    "execution": {
     "iopub.execute_input": "2024-09-19T17:41:26.246296Z",
     "iopub.status.busy": "2024-09-19T17:41:26.245851Z",
     "iopub.status.idle": "2024-09-19T17:41:26.545776Z",
     "shell.execute_reply": "2024-09-19T17:41:26.544773Z"
    },
    "id": "GVWZaWxw1i5k",
    "outputId": "368d0dc5-3fc0-4772-9529-e442f94d2a62",
    "papermill": {
     "duration": 0.317675,
     "end_time": "2024-09-19T17:41:26.547999",
     "exception": false,
     "start_time": "2024-09-19T17:41:26.230324",
     "status": "completed"
    },
    "tags": []
   },
   "outputs": [
    {
     "data": {
      "text/plain": [
       "Report Number                          0\n",
       "Local Case Number                      0\n",
       "Agency Name                            0\n",
       "ACRS Report Type                       0\n",
       "Crash Date/Time                        0\n",
       "Route Type                         16973\n",
       "Road Name                          15937\n",
       "Cross-Street Type                  17006\n",
       "Cross-Street Name                  15951\n",
       "Off-Road Description              156170\n",
       "Municipality                      152979\n",
       "Related Non-Motorist              166642\n",
       "Collision Type                       585\n",
       "Weather                            13354\n",
       "Surface Condition                  20118\n",
       "Light                               1445\n",
       "Traffic Control                    25469\n",
       "Driver Substance Abuse             31324\n",
       "Non-Motorist Substance Abuse      167788\n",
       "Person ID                              0\n",
       "Driver At Fault                        0\n",
       "Injury Severity                        0\n",
       "Circumstance                      140746\n",
       "Driver Distracted By                   0\n",
       "Drivers License State               9950\n",
       "Vehicle ID                             0\n",
       "Vehicle Damage Extent                316\n",
       "Vehicle First Impact Location        156\n",
       "Vehicle Second Impact Location       256\n",
       "Vehicle Body Type                   2649\n",
       "Vehicle Movement                     386\n",
       "Vehicle Continuing Dir              2689\n",
       "Vehicle Going Dir                   2689\n",
       "Speed Limit                            0\n",
       "Driverless Vehicle                     0\n",
       "Parked Vehicle                         0\n",
       "Vehicle Year                           0\n",
       "Vehicle Make                          24\n",
       "Vehicle Model                         66\n",
       "Equipment Problems                 34141\n",
       "Latitude                               0\n",
       "Longitude                              0\n",
       "Location                               0\n",
       "dtype: int64"
      ]
     },
     "execution_count": 9,
     "metadata": {},
     "output_type": "execute_result"
    }
   ],
   "source": [
    "null_counts = df.isnull().sum()  # Calculate the number of missing values (null) in each column\n",
    "null_counts  # Display the count of missing values for each column\n"
   ]
  },
  {
   "cell_type": "markdown",
   "id": "a2d5b879",
   "metadata": {
    "id": "340Jmmjlisn7",
    "papermill": {
     "duration": 0.014399,
     "end_time": "2024-09-19T17:41:26.577071",
     "exception": false,
     "start_time": "2024-09-19T17:41:26.562672",
     "status": "completed"
    },
    "tags": []
   },
   "source": [
    "**---------- Kolonlardaki Eksik Veri Oranları ----------**"
   ]
  },
  {
   "cell_type": "code",
   "execution_count": 10,
   "id": "d16d9b79",
   "metadata": {
    "execution": {
     "iopub.execute_input": "2024-09-19T17:41:26.608007Z",
     "iopub.status.busy": "2024-09-19T17:41:26.607600Z",
     "iopub.status.idle": "2024-09-19T17:41:26.905369Z",
     "shell.execute_reply": "2024-09-19T17:41:26.904268Z"
    },
    "id": "JWDI5dvb1i5l",
    "outputId": "6982158d-edb8-4ddf-b191-c652e838f5bc",
    "papermill": {
     "duration": 0.315825,
     "end_time": "2024-09-19T17:41:26.907679",
     "exception": false,
     "start_time": "2024-09-19T17:41:26.591854",
     "status": "completed"
    },
    "tags": []
   },
   "outputs": [
    {
     "data": {
      "text/plain": [
       "Report Number                     0.000000\n",
       "Local Case Number                 0.000000\n",
       "Agency Name                       0.000000\n",
       "ACRS Report Type                  0.000000\n",
       "Crash Date/Time                   0.000000\n",
       "Route Type                        0.098620\n",
       "Road Name                         0.092600\n",
       "Cross-Street Type                 0.098812\n",
       "Cross-Street Name                 0.092682\n",
       "Off-Road Description              0.907411\n",
       "Municipality                      0.888870\n",
       "Related Non-Motorist              0.968258\n",
       "Collision Type                    0.003399\n",
       "Weather                           0.077592\n",
       "Surface Condition                 0.116894\n",
       "Light                             0.008396\n",
       "Traffic Control                   0.147985\n",
       "Driver Substance Abuse            0.182005\n",
       "Non-Motorist Substance Abuse      0.974916\n",
       "Person ID                         0.000000\n",
       "Driver At Fault                   0.000000\n",
       "Injury Severity                   0.000000\n",
       "Circumstance                      0.817791\n",
       "Driver Distracted By              0.000000\n",
       "Drivers License State             0.057814\n",
       "Vehicle ID                        0.000000\n",
       "Vehicle Damage Extent             0.001836\n",
       "Vehicle First Impact Location     0.000906\n",
       "Vehicle Second Impact Location    0.001487\n",
       "Vehicle Body Type                 0.015392\n",
       "Vehicle Movement                  0.002243\n",
       "Vehicle Continuing Dir            0.015624\n",
       "Vehicle Going Dir                 0.015624\n",
       "Speed Limit                       0.000000\n",
       "Driverless Vehicle                0.000000\n",
       "Parked Vehicle                    0.000000\n",
       "Vehicle Year                      0.000000\n",
       "Vehicle Make                      0.000139\n",
       "Vehicle Model                     0.000383\n",
       "Equipment Problems                0.198373\n",
       "Latitude                          0.000000\n",
       "Longitude                         0.000000\n",
       "Location                          0.000000\n",
       "dtype: float64"
      ]
     },
     "execution_count": 10,
     "metadata": {},
     "output_type": "execute_result"
    }
   ],
   "source": [
    "missing_ratios = df.isnull().mean()  # Calculate the ratio of missing values in each column\n",
    "missing_ratios  # Display the ratio of missing values for each column\n"
   ]
  },
  {
   "cell_type": "markdown",
   "id": "36c71b7d",
   "metadata": {
    "id": "TE77DT53i0F3",
    "papermill": {
     "duration": 0.014107,
     "end_time": "2024-09-19T17:41:26.936353",
     "exception": false,
     "start_time": "2024-09-19T17:41:26.922246",
     "status": "completed"
    },
    "tags": []
   },
   "source": [
    "**---------- Kolonlardaki Eşsiz Veri Değer Sayıları ----------**"
   ]
  },
  {
   "cell_type": "code",
   "execution_count": 11,
   "id": "b8f42fc5",
   "metadata": {
    "execution": {
     "iopub.execute_input": "2024-09-19T17:41:26.967167Z",
     "iopub.status.busy": "2024-09-19T17:41:26.966239Z",
     "iopub.status.idle": "2024-09-19T17:41:27.539010Z",
     "shell.execute_reply": "2024-09-19T17:41:27.537913Z"
    },
    "id": "_s1W2aO51i5m",
    "outputId": "1e422cc3-0f1e-4794-eda1-d1b1ff2982b5",
    "papermill": {
     "duration": 0.590724,
     "end_time": "2024-09-19T17:41:27.541440",
     "exception": false,
     "start_time": "2024-09-19T17:41:26.950716",
     "status": "completed"
    },
    "tags": []
   },
   "outputs": [
    {
     "name": "stdout",
     "output_type": "stream",
     "text": [
      "Column: Report Number\n",
      "Number of unique values: 96854\n",
      "----------------------------------------\n",
      "Column: Local Case Number\n",
      "Number of unique values: 108783\n",
      "----------------------------------------\n",
      "Column: Agency Name\n",
      "Number of unique values: 10\n",
      "----------------------------------------\n",
      "Column: ACRS Report Type\n",
      "Number of unique values: 3\n",
      "----------------------------------------\n",
      "Column: Crash Date/Time\n",
      "Number of unique values: 94499\n",
      "----------------------------------------\n",
      "Column: Route Type\n",
      "Number of unique values: 10\n",
      "----------------------------------------\n",
      "Column: Road Name\n",
      "Number of unique values: 3803\n",
      "----------------------------------------\n",
      "Column: Cross-Street Type\n",
      "Number of unique values: 10\n",
      "----------------------------------------\n",
      "Column: Cross-Street Name\n",
      "Number of unique values: 6697\n",
      "----------------------------------------\n",
      "Column: Off-Road Description\n",
      "Number of unique values: 11302\n",
      "----------------------------------------\n",
      "Column: Municipality\n",
      "Number of unique values: 20\n",
      "----------------------------------------\n",
      "Column: Related Non-Motorist\n",
      "Number of unique values: 12\n",
      "----------------------------------------\n",
      "Column: Collision Type\n",
      "Number of unique values: 18\n",
      "----------------------------------------\n",
      "Column: Weather\n",
      "Number of unique values: 12\n",
      "----------------------------------------\n",
      "Column: Surface Condition\n",
      "Number of unique values: 11\n",
      "----------------------------------------\n",
      "Column: Light\n",
      "Number of unique values: 8\n",
      "----------------------------------------\n",
      "Column: Traffic Control\n",
      "Number of unique values: 11\n",
      "----------------------------------------\n",
      "Column: Driver Substance Abuse\n",
      "Number of unique values: 11\n",
      "----------------------------------------\n",
      "Column: Non-Motorist Substance Abuse\n",
      "Number of unique values: 15\n",
      "----------------------------------------\n",
      "Column: Person ID\n",
      "Number of unique values: 172105\n",
      "----------------------------------------\n",
      "Column: Driver At Fault\n",
      "Number of unique values: 3\n",
      "----------------------------------------\n",
      "Column: Injury Severity\n",
      "Number of unique values: 5\n",
      "----------------------------------------\n",
      "Column: Circumstance\n",
      "Number of unique values: 198\n",
      "----------------------------------------\n",
      "Column: Driver Distracted By\n",
      "Number of unique values: 19\n",
      "----------------------------------------\n",
      "Column: Drivers License State\n",
      "Number of unique values: 74\n",
      "----------------------------------------\n",
      "Column: Vehicle ID\n",
      "Number of unique values: 172105\n",
      "----------------------------------------\n",
      "Column: Vehicle Damage Extent\n",
      "Number of unique values: 7\n",
      "----------------------------------------\n",
      "Column: Vehicle First Impact Location\n",
      "Number of unique values: 16\n",
      "----------------------------------------\n",
      "Column: Vehicle Second Impact Location\n",
      "Number of unique values: 16\n",
      "----------------------------------------\n",
      "Column: Vehicle Body Type\n",
      "Number of unique values: 30\n",
      "----------------------------------------\n",
      "Column: Vehicle Movement\n",
      "Number of unique values: 22\n",
      "----------------------------------------\n",
      "Column: Vehicle Continuing Dir\n",
      "Number of unique values: 5\n",
      "----------------------------------------\n",
      "Column: Vehicle Going Dir\n",
      "Number of unique values: 5\n",
      "----------------------------------------\n",
      "Column: Speed Limit\n",
      "Number of unique values: 16\n",
      "----------------------------------------\n",
      "Column: Driverless Vehicle\n",
      "Number of unique values: 2\n",
      "----------------------------------------\n",
      "Column: Parked Vehicle\n",
      "Number of unique values: 2\n",
      "----------------------------------------\n",
      "Column: Vehicle Year\n",
      "Number of unique values: 138\n",
      "----------------------------------------\n",
      "Column: Vehicle Make\n",
      "Number of unique values: 1877\n",
      "----------------------------------------\n",
      "Column: Vehicle Model\n",
      "Number of unique values: 6691\n",
      "----------------------------------------\n",
      "Column: Equipment Problems\n",
      "Number of unique values: 10\n",
      "----------------------------------------\n",
      "Column: Latitude\n",
      "Number of unique values: 84632\n",
      "----------------------------------------\n",
      "Column: Longitude\n",
      "Number of unique values: 86712\n",
      "----------------------------------------\n",
      "Column: Location\n",
      "Number of unique values: 96009\n",
      "----------------------------------------\n"
     ]
    }
   ],
   "source": [
    "for column in df.columns:  # Iterate through each column in the DataFrame\n",
    "    num_unique = df[column].nunique()  # Get the number of unique values in the column\n",
    "    print(f\"Column: {column}\")  # Print the column name\n",
    "    print(f\"Number of unique values: {num_unique}\")  # Print the number of unique values in the column\n",
    "    print(\"-\" * 40)  # Print a separator line for readability\n"
   ]
  },
  {
   "cell_type": "markdown",
   "id": "7542ecb4",
   "metadata": {
    "id": "j0Avmr8a1i5n",
    "papermill": {
     "duration": 0.014218,
     "end_time": "2024-09-19T17:41:27.570650",
     "exception": false,
     "start_time": "2024-09-19T17:41:27.556432",
     "status": "completed"
    },
    "tags": []
   },
   "source": [
    "# **🧹🔄 VERİ ÖN İŞLEME(GENEL)**\n",
    "Bu bölümde, ham verilerin analiz için hazır hale getirilmesini sağlayan veri ön işleme adımlarını inceleyeceğiz. Temizlik, dönüştürme ve düzenleme işlemleriyle verilerin kalitesini artırarak modelleme sürecine hazırlayacağız"
   ]
  },
  {
   "cell_type": "markdown",
   "id": "4b5a02db",
   "metadata": {
    "id": "8Yl1DbWMRPZi",
    "papermill": {
     "duration": 0.014625,
     "end_time": "2024-09-19T17:41:27.600505",
     "exception": false,
     "start_time": "2024-09-19T17:41:27.585880",
     "status": "completed"
    },
    "tags": []
   },
   "source": [
    "---------- **Removing Unnecessary Columns / Gereksiz Sütunları Çıkarma İşlemi** ---------- \n",
    "\n",
    "Veri hazırlamadan gereksiz sütunları çıkarmak için şu kriterlere dikkat edilebilir:\n",
    "\n",
    "*  Ayrık Değer Sayısı Çok Fazla Olanlar: Çok sayıda benzersiz değer içeren sütunlar, modeli yavaşlatabilir. Örneğin, Road Name veya Agency Name sütunları.\n",
    "\n",
    "*  Düşük Varyanslı Sütunlar: Az farklı değer içeren veya çoğunlukla tek bir kategoriye sahip sütunlar model üzerinde etkili olmayabilir. Örneğin, Route Type sütununda tek bir değere yoğunlaşma.\n",
    "\n",
    "*  Etki Analizi Yapılmamış Sütunlar: Hedef değişkenle zayıf ilişkisi olan sütunlar çıkarılabilir.\n",
    "\n",
    "\n",
    "\n",
    "\n",
    "\n",
    "\n",
    "\n"
   ]
  },
  {
   "cell_type": "code",
   "execution_count": 12,
   "id": "f343d69a",
   "metadata": {
    "execution": {
     "iopub.execute_input": "2024-09-19T17:41:27.632568Z",
     "iopub.status.busy": "2024-09-19T17:41:27.632164Z",
     "iopub.status.idle": "2024-09-19T17:41:27.674745Z",
     "shell.execute_reply": "2024-09-19T17:41:27.673645Z"
    },
    "id": "DdxGD6-a1i5o",
    "papermill": {
     "duration": 0.061384,
     "end_time": "2024-09-19T17:41:27.677312",
     "exception": false,
     "start_time": "2024-09-19T17:41:27.615928",
     "status": "completed"
    },
    "tags": []
   },
   "outputs": [],
   "source": [
    "df = df.drop(columns=[  # Drop specified columns from the DataFrame\n",
    "    'Report Number',\n",
    "    'Local Case Number',\n",
    "    'Person ID',\n",
    "    'Vehicle ID',\n",
    "    'Latitude',\n",
    "    'Longitude',\n",
    "    'Road Name',\n",
    "    'Agency Name',\n",
    "    'Route Type',\n",
    "    'Location',\n",
    "    'Cross-Street Name',\n",
    "    'Crash Date/Time',\n",
    "    'Vehicle Make',\n",
    "    'Vehicle Model',\n",
    "    'Off-Road Description',\n",
    "    'Circumstance'\n",
    "\n",
    "\n",
    "])"
   ]
  },
  {
   "cell_type": "code",
   "execution_count": 13,
   "id": "63bfff13",
   "metadata": {
    "execution": {
     "iopub.execute_input": "2024-09-19T17:41:27.708977Z",
     "iopub.status.busy": "2024-09-19T17:41:27.708146Z",
     "iopub.status.idle": "2024-09-19T17:41:27.925409Z",
     "shell.execute_reply": "2024-09-19T17:41:27.924319Z"
    },
    "id": "gMBO6FfBTCrX",
    "outputId": "9efce5b8-a9a4-48df-fc20-3657bbb174f5",
    "papermill": {
     "duration": 0.236051,
     "end_time": "2024-09-19T17:41:27.928397",
     "exception": false,
     "start_time": "2024-09-19T17:41:27.692346",
     "status": "completed"
    },
    "tags": []
   },
   "outputs": [
    {
     "name": "stdout",
     "output_type": "stream",
     "text": [
      "Column: ACRS Report Type\n",
      "Number of unique values: 3\n",
      "----------------------------------------\n",
      "Column: Cross-Street Type\n",
      "Number of unique values: 10\n",
      "----------------------------------------\n",
      "Column: Municipality\n",
      "Number of unique values: 20\n",
      "----------------------------------------\n",
      "Column: Related Non-Motorist\n",
      "Number of unique values: 12\n",
      "----------------------------------------\n",
      "Column: Collision Type\n",
      "Number of unique values: 18\n",
      "----------------------------------------\n",
      "Column: Weather\n",
      "Number of unique values: 12\n",
      "----------------------------------------\n",
      "Column: Surface Condition\n",
      "Number of unique values: 11\n",
      "----------------------------------------\n",
      "Column: Light\n",
      "Number of unique values: 8\n",
      "----------------------------------------\n",
      "Column: Traffic Control\n",
      "Number of unique values: 11\n",
      "----------------------------------------\n",
      "Column: Driver Substance Abuse\n",
      "Number of unique values: 11\n",
      "----------------------------------------\n",
      "Column: Non-Motorist Substance Abuse\n",
      "Number of unique values: 15\n",
      "----------------------------------------\n",
      "Column: Driver At Fault\n",
      "Number of unique values: 3\n",
      "----------------------------------------\n",
      "Column: Injury Severity\n",
      "Number of unique values: 5\n",
      "----------------------------------------\n",
      "Column: Driver Distracted By\n",
      "Number of unique values: 19\n",
      "----------------------------------------\n",
      "Column: Drivers License State\n",
      "Number of unique values: 74\n",
      "----------------------------------------\n",
      "Column: Vehicle Damage Extent\n",
      "Number of unique values: 7\n",
      "----------------------------------------\n",
      "Column: Vehicle First Impact Location\n",
      "Number of unique values: 16\n",
      "----------------------------------------\n",
      "Column: Vehicle Second Impact Location\n",
      "Number of unique values: 16\n",
      "----------------------------------------\n",
      "Column: Vehicle Body Type\n",
      "Number of unique values: 30\n",
      "----------------------------------------\n",
      "Column: Vehicle Movement\n",
      "Number of unique values: 22\n",
      "----------------------------------------\n",
      "Column: Vehicle Continuing Dir\n",
      "Number of unique values: 5\n",
      "----------------------------------------\n",
      "Column: Vehicle Going Dir\n",
      "Number of unique values: 5\n",
      "----------------------------------------\n",
      "Column: Speed Limit\n",
      "Number of unique values: 16\n",
      "----------------------------------------\n",
      "Column: Driverless Vehicle\n",
      "Number of unique values: 2\n",
      "----------------------------------------\n",
      "Column: Parked Vehicle\n",
      "Number of unique values: 2\n",
      "----------------------------------------\n",
      "Column: Vehicle Year\n",
      "Number of unique values: 138\n",
      "----------------------------------------\n",
      "Column: Equipment Problems\n",
      "Number of unique values: 10\n",
      "----------------------------------------\n"
     ]
    }
   ],
   "source": [
    "# We run the code above again and see the remaining column information.\n",
    "for column in df.columns:\n",
    "    num_unique = df[column].nunique()\n",
    "    print(f\"Column: {column}\")\n",
    "    print(f\"Number of unique values: {num_unique}\")\n",
    "    print(\"-\" * 40)\n"
   ]
  },
  {
   "cell_type": "markdown",
   "id": "3288a6b4",
   "metadata": {
    "papermill": {
     "duration": 0.015023,
     "end_time": "2024-09-19T17:41:27.958426",
     "exception": false,
     "start_time": "2024-09-19T17:41:27.943403",
     "status": "completed"
    },
    "tags": []
   },
   "source": [
    "**---------- Eksik Verilerin Doldurulması ----------**\n"
   ]
  },
  {
   "cell_type": "markdown",
   "id": "1ab1259c",
   "metadata": {
    "id": "PFf7vFiG1i5o",
    "papermill": {
     "duration": 0.014556,
     "end_time": "2024-09-19T17:41:27.987976",
     "exception": false,
     "start_time": "2024-09-19T17:41:27.973420",
     "status": "completed"
    },
    "tags": []
   },
   "source": [
    "Tamamen Boş (Null) Olan Sütunlar:\n",
    "\n",
    "Off-Road Description (%90.7), Municipality (%88.9), Related Non-Motorist (%96.8), Circumstance (%81.8).Bu sütunlar çok yüksek oranda null değer içeriyor. Bu sütunları tamamen çıkarmalıyız, çünkü büyük çoğunluğu eksik.\n",
    "\n",
    "Orta Derecede Eksik Veri İçeren Sütunlar:\n",
    "\n",
    "Route Type (9.7%), Road Name (9.1%), Cross-Street Type (9.8%), Cross-Street Name (9.3%), Weather (7.8%), Surface Condition (11.7%), Traffic Control (14.8%), Driver Substance Abuse (18.2%), Drivers License State (5.8%), Vehicle Damage Extent (0.2%), Vehicle First Impact Location (0.1%), Vehicle Second Impact Location (0.15%), Vehicle Body Type (1.5%), Vehicle Movement (0.2%), Vehicle Continuing Dir (1.6%), Vehicle Going Dir (1.6%), Vehicle Make (0.01%), Vehicle Model (0.04%), Equipment Problems (19.8%).\n",
    "\n",
    "Null Değer İçermeyen Sütunlar:\n",
    "\n",
    "Bu sütunlardaki eksik değerleri en sık tekrar eden (mod) ile doldurmak mantıklı olacaktır.Agency Name (0.0%), ACRS Report Type (0.0%), Crash Date/Time (0.0%), Driver At Fault (0.0%), Injury Severity (0.0%), Driver Distracted By (0.0%), Speed Limit (0.0%), Driverless Vehicle (0.0%), Parked Vehicle (0.0%), Vehicle Year (0.0%).\n",
    "\n",
    "Bu sütunlar eksik veri içermiyor değiştirmeye gerek yok."
   ]
  },
  {
   "cell_type": "code",
   "execution_count": 14,
   "id": "1b482e44",
   "metadata": {
    "execution": {
     "iopub.execute_input": "2024-09-19T17:41:28.021618Z",
     "iopub.status.busy": "2024-09-19T17:41:28.020918Z",
     "iopub.status.idle": "2024-09-19T17:41:28.805478Z",
     "shell.execute_reply": "2024-09-19T17:41:28.804329Z"
    },
    "id": "-sIgV4DG3ujI",
    "papermill": {
     "duration": 0.805412,
     "end_time": "2024-09-19T17:41:28.808279",
     "exception": false,
     "start_time": "2024-09-19T17:41:28.002867",
     "status": "completed"
    },
    "tags": []
   },
   "outputs": [],
   "source": [
    "# Set the threshold ratio for missing data\n",
    "threshold = 0.20\n",
    "\n",
    "# Calculate missing data ratios after dropping columns\n",
    "missing_ratios = df.isnull().sum() / len(df)  # Compute the proportion of missing values for each column\n",
    "\n",
    "# Fill columns with missing data below the threshold ratio with their mode\n",
    "cols_to_fill = missing_ratios[missing_ratios < threshold].index  # Identify columns with missing data below the threshold\n",
    "for col in cols_to_fill:\n",
    "    mode_value = df[col].mode()[0]  # Find the mode (most frequent value) of the column\n",
    "    df[col].fillna(mode_value, inplace=True)  # Fill missing values with the mode value\n",
    "\n",
    "# Drop columns with missing data above or equal to the threshold ratio\n",
    "cols_to_drop = missing_ratios[missing_ratios >= threshold].index  # Identify columns with missing data above or equal to the threshold\n",
    "df.drop(columns=cols_to_drop, inplace=True)  # Drop the identified columns\n"
   ]
  },
  {
   "cell_type": "code",
   "execution_count": 15,
   "id": "394cae2d",
   "metadata": {
    "execution": {
     "iopub.execute_input": "2024-09-19T17:41:28.840682Z",
     "iopub.status.busy": "2024-09-19T17:41:28.840289Z",
     "iopub.status.idle": "2024-09-19T17:41:28.862695Z",
     "shell.execute_reply": "2024-09-19T17:41:28.861453Z"
    },
    "id": "uC7puf7J1i5p",
    "outputId": "15172a8f-341a-4935-db82-bfca0d698440",
    "papermill": {
     "duration": 0.041082,
     "end_time": "2024-09-19T17:41:28.865094",
     "exception": false,
     "start_time": "2024-09-19T17:41:28.824012",
     "status": "completed"
    },
    "tags": []
   },
   "outputs": [
    {
     "data": {
      "text/html": [
       "<div>\n",
       "<style scoped>\n",
       "    .dataframe tbody tr th:only-of-type {\n",
       "        vertical-align: middle;\n",
       "    }\n",
       "\n",
       "    .dataframe tbody tr th {\n",
       "        vertical-align: top;\n",
       "    }\n",
       "\n",
       "    .dataframe thead th {\n",
       "        text-align: right;\n",
       "    }\n",
       "</style>\n",
       "<table border=\"1\" class=\"dataframe\">\n",
       "  <thead>\n",
       "    <tr style=\"text-align: right;\">\n",
       "      <th></th>\n",
       "      <th>ACRS Report Type</th>\n",
       "      <th>Cross-Street Type</th>\n",
       "      <th>Collision Type</th>\n",
       "      <th>Weather</th>\n",
       "      <th>Surface Condition</th>\n",
       "      <th>Light</th>\n",
       "      <th>Traffic Control</th>\n",
       "      <th>Driver Substance Abuse</th>\n",
       "      <th>Driver At Fault</th>\n",
       "      <th>Injury Severity</th>\n",
       "      <th>Driver Distracted By</th>\n",
       "      <th>Drivers License State</th>\n",
       "      <th>Vehicle Damage Extent</th>\n",
       "      <th>Vehicle First Impact Location</th>\n",
       "      <th>Vehicle Second Impact Location</th>\n",
       "      <th>Vehicle Body Type</th>\n",
       "      <th>Vehicle Movement</th>\n",
       "      <th>Vehicle Continuing Dir</th>\n",
       "      <th>Vehicle Going Dir</th>\n",
       "      <th>Speed Limit</th>\n",
       "      <th>Driverless Vehicle</th>\n",
       "      <th>Parked Vehicle</th>\n",
       "      <th>Vehicle Year</th>\n",
       "      <th>Equipment Problems</th>\n",
       "    </tr>\n",
       "  </thead>\n",
       "  <tbody>\n",
       "    <tr>\n",
       "      <th>0</th>\n",
       "      <td>Property Damage Crash</td>\n",
       "      <td>County</td>\n",
       "      <td>OPPOSITE DIRECTION SIDESWIPE</td>\n",
       "      <td>CLOUDY</td>\n",
       "      <td>DRY</td>\n",
       "      <td>DAYLIGHT</td>\n",
       "      <td>NO CONTROLS</td>\n",
       "      <td>NONE DETECTED</td>\n",
       "      <td>Yes</td>\n",
       "      <td>NO APPARENT INJURY</td>\n",
       "      <td>LOOKED BUT DID NOT SEE</td>\n",
       "      <td>MD</td>\n",
       "      <td>FUNCTIONAL</td>\n",
       "      <td>SEVEN OCLOCK</td>\n",
       "      <td>SEVEN OCLOCK</td>\n",
       "      <td>PASSENGER CAR</td>\n",
       "      <td>MOVING CONSTANT SPEED</td>\n",
       "      <td>South</td>\n",
       "      <td>South</td>\n",
       "      <td>0</td>\n",
       "      <td>No</td>\n",
       "      <td>No</td>\n",
       "      <td>2017</td>\n",
       "      <td>NO MISUSE</td>\n",
       "    </tr>\n",
       "    <tr>\n",
       "      <th>1</th>\n",
       "      <td>Injury Crash</td>\n",
       "      <td>County</td>\n",
       "      <td>STRAIGHT MOVEMENT ANGLE</td>\n",
       "      <td>CLEAR</td>\n",
       "      <td>DRY</td>\n",
       "      <td>DAYLIGHT</td>\n",
       "      <td>TRAFFIC SIGNAL</td>\n",
       "      <td>NONE DETECTED</td>\n",
       "      <td>No</td>\n",
       "      <td>NO APPARENT INJURY</td>\n",
       "      <td>NOT DISTRACTED</td>\n",
       "      <td>MD</td>\n",
       "      <td>FUNCTIONAL</td>\n",
       "      <td>ELEVEN OCLOCK</td>\n",
       "      <td>ELEVEN OCLOCK</td>\n",
       "      <td>PASSENGER CAR</td>\n",
       "      <td>MOVING CONSTANT SPEED</td>\n",
       "      <td>North</td>\n",
       "      <td>West</td>\n",
       "      <td>35</td>\n",
       "      <td>No</td>\n",
       "      <td>No</td>\n",
       "      <td>2010</td>\n",
       "      <td>NO MISUSE</td>\n",
       "    </tr>\n",
       "    <tr>\n",
       "      <th>2</th>\n",
       "      <td>Injury Crash</td>\n",
       "      <td>Municipality</td>\n",
       "      <td>SAME DIR REAR END</td>\n",
       "      <td>CLEAR</td>\n",
       "      <td>DRY</td>\n",
       "      <td>DAYLIGHT</td>\n",
       "      <td>TRAFFIC SIGNAL</td>\n",
       "      <td>NONE DETECTED</td>\n",
       "      <td>No</td>\n",
       "      <td>SUSPECTED MINOR INJURY</td>\n",
       "      <td>NOT DISTRACTED</td>\n",
       "      <td>MD</td>\n",
       "      <td>FUNCTIONAL</td>\n",
       "      <td>SIX OCLOCK</td>\n",
       "      <td>SIX OCLOCK</td>\n",
       "      <td>(SPORT) UTILITY VEHICLE</td>\n",
       "      <td>MOVING CONSTANT SPEED</td>\n",
       "      <td>South</td>\n",
       "      <td>South</td>\n",
       "      <td>35</td>\n",
       "      <td>No</td>\n",
       "      <td>No</td>\n",
       "      <td>2021</td>\n",
       "      <td>NO MISUSE</td>\n",
       "    </tr>\n",
       "    <tr>\n",
       "      <th>3</th>\n",
       "      <td>Property Damage Crash</td>\n",
       "      <td>County</td>\n",
       "      <td>SINGLE VEHICLE</td>\n",
       "      <td>CLEAR</td>\n",
       "      <td>DRY</td>\n",
       "      <td>DARK LIGHTS ON</td>\n",
       "      <td>NO CONTROLS</td>\n",
       "      <td>NONE DETECTED</td>\n",
       "      <td>No</td>\n",
       "      <td>NO APPARENT INJURY</td>\n",
       "      <td>NOT DISTRACTED</td>\n",
       "      <td>MD</td>\n",
       "      <td>FUNCTIONAL</td>\n",
       "      <td>ONE OCLOCK</td>\n",
       "      <td>ONE OCLOCK</td>\n",
       "      <td>POLICE VEHICLE/NON EMERGENCY</td>\n",
       "      <td>MOVING CONSTANT SPEED</td>\n",
       "      <td>South</td>\n",
       "      <td>South</td>\n",
       "      <td>40</td>\n",
       "      <td>No</td>\n",
       "      <td>No</td>\n",
       "      <td>2019</td>\n",
       "      <td>NO MISUSE</td>\n",
       "    </tr>\n",
       "    <tr>\n",
       "      <th>4</th>\n",
       "      <td>Property Damage Crash</td>\n",
       "      <td>Maryland (State)</td>\n",
       "      <td>SINGLE VEHICLE</td>\n",
       "      <td>RAINING</td>\n",
       "      <td>WET</td>\n",
       "      <td>DARK LIGHTS ON</td>\n",
       "      <td>YIELD SIGN</td>\n",
       "      <td>NONE DETECTED</td>\n",
       "      <td>Yes</td>\n",
       "      <td>NO APPARENT INJURY</td>\n",
       "      <td>NOT DISTRACTED</td>\n",
       "      <td>MD</td>\n",
       "      <td>DISABLING</td>\n",
       "      <td>ELEVEN OCLOCK</td>\n",
       "      <td>ELEVEN OCLOCK</td>\n",
       "      <td>PASSENGER CAR</td>\n",
       "      <td>MOVING CONSTANT SPEED</td>\n",
       "      <td>North</td>\n",
       "      <td>North</td>\n",
       "      <td>20</td>\n",
       "      <td>No</td>\n",
       "      <td>No</td>\n",
       "      <td>2014</td>\n",
       "      <td>NO MISUSE</td>\n",
       "    </tr>\n",
       "  </tbody>\n",
       "</table>\n",
       "</div>"
      ],
      "text/plain": [
       "        ACRS Report Type Cross-Street Type                Collision Type  \\\n",
       "0  Property Damage Crash            County  OPPOSITE DIRECTION SIDESWIPE   \n",
       "1           Injury Crash            County       STRAIGHT MOVEMENT ANGLE   \n",
       "2           Injury Crash      Municipality             SAME DIR REAR END   \n",
       "3  Property Damage Crash            County                SINGLE VEHICLE   \n",
       "4  Property Damage Crash  Maryland (State)                SINGLE VEHICLE   \n",
       "\n",
       "   Weather Surface Condition           Light Traffic Control  \\\n",
       "0   CLOUDY               DRY        DAYLIGHT     NO CONTROLS   \n",
       "1    CLEAR               DRY        DAYLIGHT  TRAFFIC SIGNAL   \n",
       "2    CLEAR               DRY        DAYLIGHT  TRAFFIC SIGNAL   \n",
       "3    CLEAR               DRY  DARK LIGHTS ON     NO CONTROLS   \n",
       "4  RAINING               WET  DARK LIGHTS ON      YIELD SIGN   \n",
       "\n",
       "  Driver Substance Abuse Driver At Fault         Injury Severity  \\\n",
       "0          NONE DETECTED             Yes      NO APPARENT INJURY   \n",
       "1          NONE DETECTED              No      NO APPARENT INJURY   \n",
       "2          NONE DETECTED              No  SUSPECTED MINOR INJURY   \n",
       "3          NONE DETECTED              No      NO APPARENT INJURY   \n",
       "4          NONE DETECTED             Yes      NO APPARENT INJURY   \n",
       "\n",
       "     Driver Distracted By Drivers License State Vehicle Damage Extent  \\\n",
       "0  LOOKED BUT DID NOT SEE                    MD            FUNCTIONAL   \n",
       "1          NOT DISTRACTED                    MD            FUNCTIONAL   \n",
       "2          NOT DISTRACTED                    MD            FUNCTIONAL   \n",
       "3          NOT DISTRACTED                    MD            FUNCTIONAL   \n",
       "4          NOT DISTRACTED                    MD             DISABLING   \n",
       "\n",
       "  Vehicle First Impact Location Vehicle Second Impact Location  \\\n",
       "0                  SEVEN OCLOCK                   SEVEN OCLOCK   \n",
       "1                 ELEVEN OCLOCK                  ELEVEN OCLOCK   \n",
       "2                    SIX OCLOCK                     SIX OCLOCK   \n",
       "3                    ONE OCLOCK                     ONE OCLOCK   \n",
       "4                 ELEVEN OCLOCK                  ELEVEN OCLOCK   \n",
       "\n",
       "              Vehicle Body Type       Vehicle Movement Vehicle Continuing Dir  \\\n",
       "0                 PASSENGER CAR  MOVING CONSTANT SPEED                  South   \n",
       "1                 PASSENGER CAR  MOVING CONSTANT SPEED                  North   \n",
       "2       (SPORT) UTILITY VEHICLE  MOVING CONSTANT SPEED                  South   \n",
       "3  POLICE VEHICLE/NON EMERGENCY  MOVING CONSTANT SPEED                  South   \n",
       "4                 PASSENGER CAR  MOVING CONSTANT SPEED                  North   \n",
       "\n",
       "  Vehicle Going Dir  Speed Limit Driverless Vehicle Parked Vehicle  \\\n",
       "0             South            0                 No             No   \n",
       "1              West           35                 No             No   \n",
       "2             South           35                 No             No   \n",
       "3             South           40                 No             No   \n",
       "4             North           20                 No             No   \n",
       "\n",
       "   Vehicle Year Equipment Problems  \n",
       "0          2017          NO MISUSE  \n",
       "1          2010          NO MISUSE  \n",
       "2          2021          NO MISUSE  \n",
       "3          2019          NO MISUSE  \n",
       "4          2014          NO MISUSE  "
      ]
     },
     "execution_count": 15,
     "metadata": {},
     "output_type": "execute_result"
    }
   ],
   "source": [
    "df.head() # Display the first few rows of the DataFrame after handling missing data"
   ]
  },
  {
   "cell_type": "markdown",
   "id": "83b66346",
   "metadata": {
    "id": "v9mt3llS1i5q",
    "papermill": {
     "duration": 0.015069,
     "end_time": "2024-09-19T17:41:28.895687",
     "exception": false,
     "start_time": "2024-09-19T17:41:28.880618",
     "status": "completed"
    },
    "tags": []
   },
   "source": [
    "**Buraya kadar gözetimli ve gözetimsiz öğrenme işlemleri ortak. Buradan sonra gözetimli ve gözetimsiz öğrenme için yapılacak işlemleri iki kısımda inceleyeceğim.**"
   ]
  },
  {
   "cell_type": "markdown",
   "id": "4942d99d",
   "metadata": {
    "id": "fR_qYAa41i5q",
    "papermill": {
     "duration": 0.015135,
     "end_time": "2024-09-19T17:41:28.926282",
     "exception": false,
     "start_time": "2024-09-19T17:41:28.911147",
     "status": "completed"
    },
    "tags": []
   },
   "source": [
    "# **🧹🔄 VERİ ÖN İŞLEME(GÖZETİMSİZ ÖĞRENME)**"
   ]
  },
  {
   "cell_type": "markdown",
   "id": "63768f42",
   "metadata": {
    "papermill": {
     "duration": 0.015045,
     "end_time": "2024-09-19T17:41:28.956615",
     "exception": false,
     "start_time": "2024-09-19T17:41:28.941570",
     "status": "completed"
    },
    "tags": []
   },
   "source": [
    "# Encoding"
   ]
  },
  {
   "cell_type": "markdown",
   "id": "ad07b17b",
   "metadata": {
    "id": "bKKIVsSMVu5z",
    "papermill": {
     "duration": 0.015075,
     "end_time": "2024-09-19T17:41:28.987017",
     "exception": false,
     "start_time": "2024-09-19T17:41:28.971942",
     "status": "completed"
    },
    "tags": []
   },
   "source": [
    "**Label Encoding**"
   ]
  },
  {
   "cell_type": "code",
   "execution_count": 16,
   "id": "8967646b",
   "metadata": {
    "execution": {
     "iopub.execute_input": "2024-09-19T17:41:29.020092Z",
     "iopub.status.busy": "2024-09-19T17:41:29.019054Z",
     "iopub.status.idle": "2024-09-19T17:41:29.108811Z",
     "shell.execute_reply": "2024-09-19T17:41:29.107358Z"
    },
    "id": "54ok6rz01i5t",
    "papermill": {
     "duration": 0.10948,
     "end_time": "2024-09-19T17:41:29.111814",
     "exception": false,
     "start_time": "2024-09-19T17:41:29.002334",
     "status": "completed"
    },
    "tags": []
   },
   "outputs": [],
   "source": [
    "# List of ordinal columns to apply Label Encoding\n",
    "ordinal_columns = ['Injury Severity', 'Vehicle Damage Extent']\n",
    "\n",
    "le = LabelEncoder()  # Initialize the LabelEncoder\n",
    "for column in ordinal_columns:\n",
    "    df[column] = le.fit_transform(df[column].astype(str))  # Convert each ordinal column to numeric labels\n"
   ]
  },
  {
   "cell_type": "markdown",
   "id": "c914760f",
   "metadata": {
    "id": "AK54Ajp71i5u",
    "papermill": {
     "duration": 0.015295,
     "end_time": "2024-09-19T17:41:29.145641",
     "exception": false,
     "start_time": "2024-09-19T17:41:29.130346",
     "status": "completed"
    },
    "tags": []
   },
   "source": [
    "**One-Hot Encoding**"
   ]
  },
  {
   "cell_type": "code",
   "execution_count": 17,
   "id": "314eb945",
   "metadata": {
    "execution": {
     "iopub.execute_input": "2024-09-19T17:41:29.178806Z",
     "iopub.status.busy": "2024-09-19T17:41:29.178321Z",
     "iopub.status.idle": "2024-09-19T17:41:29.689586Z",
     "shell.execute_reply": "2024-09-19T17:41:29.688181Z"
    },
    "id": "ycZgB_O81i5u",
    "papermill": {
     "duration": 0.531392,
     "end_time": "2024-09-19T17:41:29.692723",
     "exception": false,
     "start_time": "2024-09-19T17:41:29.161331",
     "status": "completed"
    },
    "tags": []
   },
   "outputs": [],
   "source": [
    "# List of nominal columns to apply OneHot Encoding\n",
    "nominal_columns = ['ACRS Report Type', 'Cross-Street Type', 'Collision Type', 'Weather',\n",
    "       'Surface Condition', 'Light', 'Traffic Control',\n",
    "       'Driver Substance Abuse', 'Driver At Fault',\n",
    "       'Driver Distracted By', 'Drivers License State',\n",
    "       'Vehicle First Impact Location',\n",
    "       'Vehicle Second Impact Location', 'Vehicle Body Type',\n",
    "       'Vehicle Movement', 'Vehicle Continuing Dir', 'Vehicle Going Dir',\n",
    "       'Speed Limit', 'Driverless Vehicle', 'Parked Vehicle', 'Vehicle Year',\n",
    "       'Equipment Problems']\n",
    "\n",
    "# Apply OneHot Encoding to nominal columns and drop the first level to avoid multicollinearity\n",
    "df_unsupervised = pd.get_dummies(df, columns=nominal_columns, drop_first=True)\n"
   ]
  },
  {
   "cell_type": "markdown",
   "id": "b8c9678c",
   "metadata": {
    "id": "h-HW2-tnVh8K",
    "papermill": {
     "duration": 0.015178,
     "end_time": "2024-09-19T17:41:29.729052",
     "exception": false,
     "start_time": "2024-09-19T17:41:29.713874",
     "status": "completed"
    },
    "tags": []
   },
   "source": [
    "#  Standardization "
   ]
  },
  {
   "cell_type": "code",
   "execution_count": 18,
   "id": "dd2289d8",
   "metadata": {
    "execution": {
     "iopub.execute_input": "2024-09-19T17:41:29.814407Z",
     "iopub.status.busy": "2024-09-19T17:41:29.813745Z",
     "iopub.status.idle": "2024-09-19T17:41:33.537474Z",
     "shell.execute_reply": "2024-09-19T17:41:33.536363Z"
    },
    "id": "6ziHO5_e1i5q",
    "papermill": {
     "duration": 3.795298,
     "end_time": "2024-09-19T17:41:33.540022",
     "exception": false,
     "start_time": "2024-09-19T17:41:29.744724",
     "status": "completed"
    },
    "tags": []
   },
   "outputs": [],
   "source": [
    "scaler = StandardScaler()  # Initialize the StandardScaler\n",
    "X_scaled = scaler.fit_transform(df_unsupervised)  # Fit and transform the entire dataset to standardize features\n"
   ]
  },
  {
   "cell_type": "markdown",
   "id": "c5567c9b",
   "metadata": {
    "papermill": {
     "duration": 0.015345,
     "end_time": "2024-09-19T17:41:33.570960",
     "exception": false,
     "start_time": "2024-09-19T17:41:33.555615",
     "status": "completed"
    },
    "tags": []
   },
   "source": [
    "# **📈⚙️ ALGORİTMA SEÇİMİ & HİPERPARAMETRE OPTİMİZASYONU (GÖZETİMSİZ ÖĞRENME)**\n",
    "Gözetimsiz öğrenmede algoritma seçimi, verilerin doğasına ve hedeflenen çıkarıma bağlıdır. Algoritmaların performansını maksimize etmek için doğru hiperparametrelerin seçimi kritik bir rol oynar. Kümeleme ve boyut indirgeme gibi tekniklerde algoritma özelliklerine uygun hiperparametre optimizasyonu, modelin doğruluğunu artırır ve veri dağılımlarını daha iyi anlamamıza olanak tanır.Standardization"
   ]
  },
  {
   "cell_type": "code",
   "execution_count": 19,
   "id": "cb68a237",
   "metadata": {
    "execution": {
     "iopub.execute_input": "2024-09-19T17:41:33.603527Z",
     "iopub.status.busy": "2024-09-19T17:41:33.603134Z",
     "iopub.status.idle": "2024-09-19T17:41:52.813080Z",
     "shell.execute_reply": "2024-09-19T17:41:52.811593Z"
    },
    "id": "5bfzrET81i5r",
    "papermill": {
     "duration": 19.229357,
     "end_time": "2024-09-19T17:41:52.815778",
     "exception": false,
     "start_time": "2024-09-19T17:41:33.586421",
     "status": "completed"
    },
    "tags": []
   },
   "outputs": [],
   "source": [
    "# Initialize KMeans with 3 clusters and a fixed random seed for reproducibility\n",
    "kmeans = KMeans(n_clusters=3, random_state=42)\n",
    "clusters = kmeans.fit_predict(X_scaled)  # Fit the model and predict cluster assignments for the entire dataset\n"
   ]
  },
  {
   "cell_type": "markdown",
   "id": "aceaf0c1",
   "metadata": {
    "papermill": {
     "duration": 0.015054,
     "end_time": "2024-09-19T17:41:52.846286",
     "exception": false,
     "start_time": "2024-09-19T17:41:52.831232",
     "status": "completed"
    },
    "tags": []
   },
   "source": [
    "# **🧠💡 MODEL DEĞERLENDİRME (GÖZETİMSİZ ÖĞRENME)**\n",
    "Gözetimsiz öğrenme modellerinde değerlendirme, genellikle modelin veri içindeki yapıları ve desenleri ne kadar iyi yakaladığını anlamak üzerine odaklanır. Kümeler arası ayrım, içsel tutarlılık ve veri yeniden yapılandırma gibi kriterler, modelin başarısını ölçmek için kullanılır. Uygulamada, sonuçların görselleştirilmesi ve çeşitli metriklerle değerlendirilmesi, modelin performansını objektif bir şekilde analiz etmeye yardımcı olur."
   ]
  },
  {
   "cell_type": "code",
   "execution_count": 20,
   "id": "6e319697",
   "metadata": {
    "execution": {
     "iopub.execute_input": "2024-09-19T17:41:52.879354Z",
     "iopub.status.busy": "2024-09-19T17:41:52.878922Z",
     "iopub.status.idle": "2024-09-19T17:41:56.235533Z",
     "shell.execute_reply": "2024-09-19T17:41:56.234415Z"
    },
    "id": "Z1G0bAkW6b8q",
    "outputId": "f8fc2723-288a-4253-80a9-3b4ffc038871",
    "papermill": {
     "duration": 3.376197,
     "end_time": "2024-09-19T17:41:56.238081",
     "exception": false,
     "start_time": "2024-09-19T17:41:52.861884",
     "status": "completed"
    },
    "tags": []
   },
   "outputs": [
    {
     "data": {
      "image/png": "[encoded data removed]",
      "text/plain": [
       "<Figure size 640x480 with 1 Axes>"
      ]
     },
     "metadata": {},
     "output_type": "display_data"
    }
   ],
   "source": [
    "# Scatter plot of the first two scaled features, colored by cluster assignments\n",
    "plt.scatter(X_scaled[:, 0], X_scaled[:, 1], c=clusters, cmap='viridis')\n",
    "\n",
    "# Calculate cluster centers from the fitted KMeans model\n",
    "centers = kmeans.cluster_centers_\n",
    "\n",
    "# Scatter plot of cluster centers with red 'x' markers\n",
    "plt.scatter(centers[:, 0], centers[:, 1], s=300, c='red', marker='x')  # Show cluster centers\n",
    "plt.title('KMeans Clustering')  # Set the title of the plot\n",
    "plt.show()  # Display the plot\n"
   ]
  },
  {
   "cell_type": "markdown",
   "id": "8df8c802",
   "metadata": {
    "id": "yJlJdA9a1i5s",
    "papermill": {
     "duration": 0.015244,
     "end_time": "2024-09-19T17:41:56.269277",
     "exception": false,
     "start_time": "2024-09-19T17:41:56.254033",
     "status": "completed"
    },
    "tags": []
   },
   "source": [
    "# **🧹🔄 VERİ ÖN İŞLEME(GÖZETİMSİZ ÖĞRENME)**"
   ]
  },
  {
   "cell_type": "markdown",
   "id": "767c9c49",
   "metadata": {
    "id": "QFUoNYnLl7aY",
    "papermill": {
     "duration": 0.015491,
     "end_time": "2024-09-19T17:41:56.300472",
     "exception": false,
     "start_time": "2024-09-19T17:41:56.284981",
     "status": "completed"
    },
    "tags": []
   },
   "source": [
    "# Encoding"
   ]
  },
  {
   "cell_type": "markdown",
   "id": "71e0d2a7",
   "metadata": {
    "id": "JudndHy0Wc3-",
    "papermill": {
     "duration": 0.015358,
     "end_time": "2024-09-19T17:41:56.331591",
     "exception": false,
     "start_time": "2024-09-19T17:41:56.316233",
     "status": "completed"
    },
    "tags": []
   },
   "source": [
    "Burada gözetimsiz öğrenme için tekrardan birkaç farklılık içeren encoding işlemleri uygulanmaktadır. Çünkü verimizi etiketleme kısmında target değişkene encoding işlemi yapılmayacaktır."
   ]
  },
  {
   "cell_type": "code",
   "execution_count": 21,
   "id": "6d9a7194",
   "metadata": {
    "execution": {
     "iopub.execute_input": "2024-09-19T17:41:56.364969Z",
     "iopub.status.busy": "2024-09-19T17:41:56.364543Z",
     "iopub.status.idle": "2024-09-19T17:41:56.774133Z",
     "shell.execute_reply": "2024-09-19T17:41:56.773119Z"
    },
    "id": "Org3-T8bJk88",
    "papermill": {
     "duration": 0.429722,
     "end_time": "2024-09-19T17:41:56.776860",
     "exception": false,
     "start_time": "2024-09-19T17:41:56.347138",
     "status": "completed"
    },
    "tags": []
   },
   "outputs": [],
   "source": [
    "# List of nominal columns to apply OneHot Encoding\n",
    "nominal_columns = ['ACRS Report Type', 'Cross-Street Type', 'Collision Type', 'Weather',\n",
    "       'Surface Condition', 'Light', 'Traffic Control',\n",
    "       'Driver Substance Abuse',\n",
    "       'Driver Distracted By', 'Drivers License State',\n",
    "       'Vehicle First Impact Location',\n",
    "       'Vehicle Second Impact Location', 'Vehicle Body Type',\n",
    "       'Vehicle Movement', 'Vehicle Continuing Dir', 'Vehicle Going Dir',\n",
    "       'Speed Limit', 'Driverless Vehicle', 'Parked Vehicle', 'Vehicle Year',\n",
    "       'Equipment Problems']\n",
    "\n",
    "# Apply OneHot Encoding to nominal columns and drop the first level to avoid multicollinearity\n",
    "df = pd.get_dummies(df, columns=nominal_columns, drop_first=True)\n"
   ]
  },
  {
   "cell_type": "markdown",
   "id": "42d54054",
   "metadata": {
    "papermill": {
     "duration": 0.015659,
     "end_time": "2024-09-19T17:41:56.808410",
     "exception": false,
     "start_time": "2024-09-19T17:41:56.792751",
     "status": "completed"
    },
    "tags": []
   },
   "source": [
    "# Veriyi Bölme ve Etiketleme İşlemi"
   ]
  },
  {
   "cell_type": "code",
   "execution_count": 22,
   "id": "40d6dc78",
   "metadata": {
    "execution": {
     "iopub.execute_input": "2024-09-19T17:41:56.841945Z",
     "iopub.status.busy": "2024-09-19T17:41:56.841510Z",
     "iopub.status.idle": "2024-09-19T17:41:57.070512Z",
     "shell.execute_reply": "2024-09-19T17:41:57.069402Z"
    },
    "id": "El8eWiz81i5v",
    "papermill": {
     "duration": 0.248817,
     "end_time": "2024-09-19T17:41:57.073037",
     "exception": false,
     "start_time": "2024-09-19T17:41:56.824220",
     "status": "completed"
    },
    "tags": []
   },
   "outputs": [],
   "source": [
    "# Define the target column\n",
    "target_column = 'Driver At Fault'\n",
    "\n",
    "# Separate features and target variable\n",
    "X = df.drop(target_column, axis=1)  # Features\n",
    "y = df[target_column]  # Target variable\n",
    "\n",
    "# Split the data into training and test sets (80% training, 20% test)\n",
    "X_train, X_test, y_train, y_test = train_test_split(X, y, test_size=0.2, random_state=42)\n"
   ]
  },
  {
   "cell_type": "markdown",
   "id": "e5349a04",
   "metadata": {
    "id": "FuFC54aKXV0X",
    "papermill": {
     "duration": 0.015615,
     "end_time": "2024-09-19T17:41:57.104519",
     "exception": false,
     "start_time": "2024-09-19T17:41:57.088904",
     "status": "completed"
    },
    "tags": []
   },
   "source": [
    "# Standardization"
   ]
  },
  {
   "cell_type": "code",
   "execution_count": 23,
   "id": "156511f5",
   "metadata": {
    "execution": {
     "iopub.execute_input": "2024-09-19T17:41:57.137695Z",
     "iopub.status.busy": "2024-09-19T17:41:57.137288Z",
     "iopub.status.idle": "2024-09-19T17:42:00.604557Z",
     "shell.execute_reply": "2024-09-19T17:42:00.603112Z"
    },
    "id": "KtdJnbLo1i5w",
    "papermill": {
     "duration": 3.486821,
     "end_time": "2024-09-19T17:42:00.607314",
     "exception": false,
     "start_time": "2024-09-19T17:41:57.120493",
     "status": "completed"
    },
    "tags": []
   },
   "outputs": [],
   "source": [
    "# Create a scaler to standardize the data\n",
    "scaler = StandardScaler()\n",
    "\n",
    "# Fit the scaler on the training data and transform it\n",
    "X_train_scaled = scaler.fit_transform(X_train)  # Standardize the training data\n",
    "\n",
    "# Transform the test data using the same scaler\n",
    "X_test_scaled = scaler.transform(X_test)  # Standardize the test data\n"
   ]
  },
  {
   "cell_type": "markdown",
   "id": "74ba1ec2",
   "metadata": {
    "id": "gpK3sKE01i5w",
    "papermill": {
     "duration": 0.015793,
     "end_time": "2024-09-19T17:42:00.640715",
     "exception": false,
     "start_time": "2024-09-19T17:42:00.624922",
     "status": "completed"
    },
    "tags": []
   },
   "source": [
    "# **📈⚙️ ALGORİTMA SEÇİMİ & HİPERPARAMETRE OPTİMİZASYONU (GÖZETİMLİ ÖĞRENME)**\n",
    "Gözetimli öğrenme sürecinde algoritma seçimi, problemin doğasına ve verinin özelliklerine göre yapılır. Doğrusal regresyondan destek vektör makinelerine kadar çeşitli algoritmalar, farklı veri setleri için uygun olabilir. Hiperparametre optimizasyonu, seçilen algoritmanın performansını artırmak için kritik bir adımdır. Grid search, random search ve Bayesian optimizasyon gibi yöntemler kullanılarak, modelin hiperparametreleri ayarlanarak en iyi sonuçlar elde edilir. Bu süreç, modelin genelleme yeteneğini ve doğruluğunu maksimize eder."
   ]
  },
  {
   "cell_type": "code",
   "execution_count": 24,
   "id": "66f81828",
   "metadata": {
    "execution": {
     "iopub.execute_input": "2024-09-19T17:42:00.674477Z",
     "iopub.status.busy": "2024-09-19T17:42:00.674048Z",
     "iopub.status.idle": "2024-09-19T17:42:15.230497Z",
     "shell.execute_reply": "2024-09-19T17:42:15.229307Z"
    },
    "id": "_mN6Erz31i5w",
    "outputId": "f33e5333-6631-4487-ce2a-b6ae8128f7a7",
    "papermill": {
     "duration": 14.57724,
     "end_time": "2024-09-19T17:42:15.233935",
     "exception": false,
     "start_time": "2024-09-19T17:42:00.656695",
     "status": "completed"
    },
    "tags": []
   },
   "outputs": [
    {
     "name": "stdout",
     "output_type": "stream",
     "text": [
      "Doğruluk Skoru: 0.8697887917259812\n"
     ]
    }
   ],
   "source": [
    "# Create the logistic regression model\n",
    "log_reg = LogisticRegression()\n",
    "\n",
    "# Train the model on the training data\n",
    "log_reg.fit(X_train_scaled, y_train)\n",
    "\n",
    "# Make predictions on the test data\n",
    "y_pred = log_reg.predict(X_test_scaled)\n",
    "\n",
    "# Evaluate and print the results\n",
    "print(\"Doğruluk Skoru:\", accuracy_score(y_test, y_pred))  # Print the accuracy score"
   ]
  },
  {
   "cell_type": "markdown",
   "id": "28da3792",
   "metadata": {
    "papermill": {
     "duration": 0.015647,
     "end_time": "2024-09-19T17:42:15.272546",
     "exception": false,
     "start_time": "2024-09-19T17:42:15.256899",
     "status": "completed"
    },
    "tags": []
   },
   "source": [
    "# **🧠💡 MODEL DEĞERLENDİRME (GÖZETİMLİ ÖĞRENME)**\n",
    "Gözetimli öğrenme modellerinde değerlendirme, modelin doğruluğunu ve genel performansını ölçmek için çeşitli metrikler kullanır. Sınıflandırma problemlerinde doğruluk, F1 skoru, ROC eğrisi ve AUC gibi metrikler, modelin tahminlerinin ne kadar doğru olduğunu gösterir. Regresyon problemlerinde ise RMSE, MAE ve R² gibi ölçütler kullanılarak modelin tahmin başarısı değerlendirilir. Bu metrikler, modelin gerçek dünyadaki performansını anlamak ve gerekli iyileştirmeleri yapmak için kritik öneme sahiptir.\n"
   ]
  },
  {
   "cell_type": "markdown",
   "id": "f83ed690",
   "metadata": {
    "papermill": {
     "duration": 0.015359,
     "end_time": "2024-09-19T17:42:15.303631",
     "exception": false,
     "start_time": "2024-09-19T17:42:15.288272",
     "status": "completed"
    },
    "tags": []
   },
   "source": [
    "**---------- Cross Validation (Çapraz Doğrulama) Sonuçları ----------**"
   ]
  },
  {
   "cell_type": "code",
   "execution_count": 25,
   "id": "dce69d03",
   "metadata": {
    "execution": {
     "iopub.execute_input": "2024-09-19T17:42:15.336819Z",
     "iopub.status.busy": "2024-09-19T17:42:15.336416Z",
     "iopub.status.idle": "2024-09-19T17:43:13.688437Z",
     "shell.execute_reply": "2024-09-19T17:43:13.687294Z"
    },
    "papermill": {
     "duration": 58.398452,
     "end_time": "2024-09-19T17:43:13.717881",
     "exception": false,
     "start_time": "2024-09-19T17:42:15.319429",
     "status": "completed"
    },
    "tags": []
   },
   "outputs": [
    {
     "name": "stdout",
     "output_type": "stream",
     "text": [
      "Çapraz Doğrulama Sonuçları: [0.87075571 0.87006573 0.87562189 0.87144569 0.87031522]\n",
      "Ortalama Doğruluk: 0.8716408491500433\n",
      "Standart Sapma: 0.0020449220815253123\n"
     ]
    }
   ],
   "source": [
    "from sklearn.model_selection import cross_val_score\n",
    "from sklearn.pipeline import make_pipeline\n",
    "\n",
    "\n",
    "# Çapraz doğrulama uygulama \n",
    "cv_scores = cross_val_score(log_reg, X_train_scaled, y_train, cv=5, scoring='accuracy')\n",
    "\n",
    "# Çapraz doğrulama sonuçlarını yazdırma\n",
    "print(f\"Çapraz Doğrulama Sonuçları: {cv_scores}\")\n",
    "print(f\"Ortalama Doğruluk: {cv_scores.mean()}\")\n",
    "print(f\"Standart Sapma: {cv_scores.std()}\")\n"
   ]
  },
  {
   "cell_type": "markdown",
   "id": "6f8ddd2c",
   "metadata": {
    "papermill": {
     "duration": 0.01578,
     "end_time": "2024-09-19T17:43:13.754228",
     "exception": false,
     "start_time": "2024-09-19T17:43:13.738448",
     "status": "completed"
    },
    "tags": []
   },
   "source": [
    "**---------- Farklı Model Başarı Metrikleri ----------**"
   ]
  },
  {
   "cell_type": "code",
   "execution_count": 26,
   "id": "475c77b2",
   "metadata": {
    "execution": {
     "iopub.execute_input": "2024-09-19T17:43:13.788741Z",
     "iopub.status.busy": "2024-09-19T17:43:13.787913Z",
     "iopub.status.idle": "2024-09-19T17:43:15.074707Z",
     "shell.execute_reply": "2024-09-19T17:43:15.073396Z"
    },
    "papermill": {
     "duration": 1.30648,
     "end_time": "2024-09-19T17:43:15.077033",
     "exception": false,
     "start_time": "2024-09-19T17:43:13.770553",
     "status": "completed"
    },
    "tags": []
   },
   "outputs": [
    {
     "name": "stdout",
     "output_type": "stream",
     "text": [
      "Sınıflandırma Raporu:\n",
      "               precision    recall  f1-score   support\n",
      "\n",
      "          No       0.86      0.88      0.87     14895\n",
      "     Unknown       0.45      0.02      0.05       955\n",
      "         Yes       0.88      0.90      0.89     18571\n",
      "\n",
      "    accuracy                           0.87     34421\n",
      "   macro avg       0.73      0.60      0.60     34421\n",
      "weighted avg       0.86      0.87      0.86     34421\n",
      "\n"
     ]
    }
   ],
   "source": [
    "print(\"Sınıflandırma Raporu:\\n\", classification_report(y_test, y_pred))  # Print the classification report"
   ]
  }
 ],
 "metadata": {
  "colab": {
   "provenance": []
  },
  "kaggle": {
   "accelerator": "none",
   "dataSources": [
    {
     "datasetId": 5348304,
     "sourceId": 8893731,
     "sourceType": "datasetVersion"
    }
   ],
   "dockerImageVersionId": 30761,
   "isGpuEnabled": false,
   "isInternetEnabled": false,
   "language": "python",
   "sourceType": "notebook"
  },
  "kernelspec": {
   "display_name": "Python 3",
   "language": "python",
   "name": "python3"
  },
  "language_info": {
   "codemirror_mode": {
    "name": "ipython",
    "version": 3
   },
   "file_extension": ".py",
   "mimetype": "text/x-python",
   "name": "python",
   "nbconvert_exporter": "python",
   "pygments_lexer": "ipython3",
   "version": "3.10.14"
  },
  "papermill": {
   "default_parameters": {},
   "duration": 119.828092,
   "end_time": "2024-09-19T17:43:15.814204",
   "environment_variables": {},
   "exception": null,
   "input_path": "__notebook__.ipynb",
   "output_path": "__notebook__.ipynb",
   "parameters": {},
   "start_time": "2024-09-19T17:41:15.986112",
   "version": "2.6.0"
  }
 },
 "nbformat": 4,
 "nbformat_minor": 5
}
